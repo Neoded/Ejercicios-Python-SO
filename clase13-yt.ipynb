{
 "cells": [
  {
   "cell_type": "code",
   "execution_count": 4,
   "id": "9d5c3d47",
   "metadata": {},
   "outputs": [
    {
     "name": "stdout",
     "output_type": "stream",
     "text": [
      "0 kiwi\n",
      "1 fresa\n",
      "2 sandia\n",
      "3 manzana\n"
     ]
    }
   ],
   "source": [
    "#Creamos una lista de frutas para iterar\n",
    "frutas= [\"kiwi\", \"fresa\", \"sandia\", \"manzana\"]\n",
    "\n",
    "#Es una clase que nos permite construir un objeto, nos lo proporciona con un indice\n",
    "for indice, fruta in enumerate(frutas):\n",
    "    print(indice, fruta)"
   ]
  },
  {
   "cell_type": "code",
   "execution_count": null,
   "id": "5c2c2400",
   "metadata": {},
   "outputs": [
    {
     "name": "stdout",
     "output_type": "stream",
     "text": [
      "2 fresa\n",
      "4 manzana\n",
      "Aqui continua el codigo\n"
     ]
    }
   ],
   "source": [
    "#Creamos una lista de frutas para iterar\n",
    "frutas= [\"kiwi\", \"fresa\", \"sandia\", \"manzana\", \"pera\"]\n",
    "\n",
    "#Es una clase que nos permite construir un objeto, nos lo proporciona con un indice\n",
    "for indice, fruta in enumerate(frutas):\n",
    "    indice+=1\n",
    "    #Si el indice es igual a 3 romper el bucle y terminarlo\n",
    "    if indice%2 == 0:\n",
    "        continue\n",
    "    \n",
    "    #Imprimir la fruta\n",
    "    print(indice, fruta)\n",
    "\n",
    "print(\"Aqui continua el codigo\")"
   ]
  },
  {
   "cell_type": "code",
   "execution_count": 29,
   "id": "c10ce12e",
   "metadata": {},
   "outputs": [
    {
     "name": "stdout",
     "output_type": "stream",
     "text": [
      "kiwi es una fruta impar 1\n",
      "fresa es una fruta PAR 2\n",
      "sandia es una fruta impar 3\n",
      "manzana es una fruta PAR 4\n",
      "pera es una fruta impar 5\n",
      "Aqui continua el codigo\n"
     ]
    }
   ],
   "source": [
    "#Creamos una lista de frutas para iterar\n",
    "frutas= [\"kiwi\", \"fresa\", \"sandia\", \"manzana\", \"pera\"]\n",
    "\n",
    "#Es una clase que nos permite construir un objeto, nos lo proporciona con un indice\n",
    "for indice, fruta in enumerate(frutas):\n",
    "    indice+=1\n",
    "    #Si el indice es igual a 3 romper el bucle y terminarlo\n",
    "    if indice%2 != 0:\n",
    "        #Imprimir la fruta\n",
    "        print(\"{} es una fruta impar {}\".format(fruta, indice))\n",
    "    else:\n",
    "        print(\"{} es una fruta PAR {}\".format(fruta, indice))\n",
    "\n",
    "print(\"Aqui continua el codigo\")"
   ]
  }
 ],
 "metadata": {
  "kernelspec": {
   "display_name": "Python 3",
   "language": "python",
   "name": "python3"
  },
  "language_info": {
   "codemirror_mode": {
    "name": "ipython",
    "version": 3
   },
   "file_extension": ".py",
   "mimetype": "text/x-python",
   "name": "python",
   "nbconvert_exporter": "python",
   "pygments_lexer": "ipython3",
   "version": "3.12.4"
  }
 },
 "nbformat": 4,
 "nbformat_minor": 5
}
