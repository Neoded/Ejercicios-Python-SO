{
 "cells": [
  {
   "cell_type": "code",
   "execution_count": 5,
   "id": "a5c166cd",
   "metadata": {},
   "outputs": [
    {
     "name": "stdout",
     "output_type": "stream",
     "text": [
      "Esto se ejecutara si no se cumple ninguna de las condiciones anteriores\n"
     ]
    }
   ],
   "source": [
    "#Condicionales usa las siguientes palabras\n",
    "condicion= None\n",
    "condicion2= None\n",
    "if condicion:  #Se evalua si cumple con True #SI\n",
    "    print(\"esto se ejecutara en if si cumple con True en la condicion\")\n",
    "elif condicion2: #Se evalua si cumple con True y la condicion anterior resulto en False  #SI NO\n",
    "    print(\"Esto se ejecutara si no se ejecuta if y se cumple la condicion\")\n",
    "else:\n",
    "    print(\"Esto se ejecutara si no se cumple ninguna de las condiciones anteriores\")"
   ]
  },
  {
   "cell_type": "code",
   "execution_count": 29,
   "id": "a3d8c65a",
   "metadata": {},
   "outputs": [
    {
     "name": "stdout",
     "output_type": "stream",
     "text": [
      "False\n",
      "True\n",
      "False\n"
     ]
    }
   ],
   "source": [
    "#Vamos a guardar la edad y mostraremos un mensaje de acuerdo a la edad\n",
    "#menor de edad  <18, mayor de edad >= 18 <65, adulto mayor >65\n",
    "edad = 33\n",
    "\n",
    "print(edad < 18)\n",
    "print(edad >= 18 and edad < 65)\n",
    "print(edad > 65)"
   ]
  },
  {
   "cell_type": "code",
   "execution_count": 28,
   "id": "15c5b2d5",
   "metadata": {},
   "outputs": [
    {
     "name": "stdout",
     "output_type": "stream",
     "text": [
      "Eres mayor de edad\n"
     ]
    }
   ],
   "source": [
    "#Guardamos la edad en una variable\n",
    "edad = 33\n",
    "\n",
    "#Evaluamos si la persona es menor de edad\n",
    "if edad < 18:\n",
    "    print(\"Eres menor de edad\")\n",
    "elif edad >= 18 and edad < 65:\n",
    "    print(\"Eres mayor de edad\")\n",
    "else:\n",
    "    print(\"Eres un adulto mayor\")"
   ]
  }
 ],
 "metadata": {
  "kernelspec": {
   "display_name": "Python 3",
   "language": "python",
   "name": "python3"
  },
  "language_info": {
   "codemirror_mode": {
    "name": "ipython",
    "version": 3
   },
   "file_extension": ".py",
   "mimetype": "text/x-python",
   "name": "python",
   "nbconvert_exporter": "python",
   "pygments_lexer": "ipython3",
   "version": "3.12.4"
  }
 },
 "nbformat": 4,
 "nbformat_minor": 5
}
