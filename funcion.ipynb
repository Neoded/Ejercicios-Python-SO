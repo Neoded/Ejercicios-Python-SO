{
 "cells": [
  {
   "cell_type": "code",
   "execution_count": 8,
   "id": "5226c498",
   "metadata": {},
   "outputs": [],
   "source": [
    "variable1= 1\n",
    "variable2= 2\n",
    "variable3= 3\n",
    "variable4= 4\n",
    "\n",
    "variable5= 5\n",
    "variable6= 6\n",
    "variable7= 7\n",
    "variable8= 8"
   ]
  },
  {
   "cell_type": "code",
   "execution_count": 30,
   "id": "58a11614",
   "metadata": {},
   "outputs": [],
   "source": [
    "def multiples_mensajes():\n",
    "    print(\"hola mundo\")\n",
    "    print(\"hola mundo2\")\n",
    "    print(\"hola mund3\")\n",
    "    print(\"hola mundo4\")"
   ]
  },
  {
   "cell_type": "code",
   "execution_count": 28,
   "id": "5c8d3d54",
   "metadata": {},
   "outputs": [
    {
     "name": "stdout",
     "output_type": "stream",
     "text": [
      "hola mundo\n",
      "hola mundo2\n",
      "hola mund3\n",
      "hola mundo4\n",
      "3\n",
      "-1\n",
      "4\n",
      "0.6666666666666666\n",
      "hola mundo\n",
      "hola mundo2\n",
      "hola mund3\n",
      "hola mundo4\n",
      "----------\n",
      "11\n",
      "-1\n",
      "40\n",
      "0.8571428571428571\n",
      "hola mundo\n",
      "hola mundo2\n",
      "hola mund3\n",
      "hola mundo4\n"
     ]
    }
   ],
   "source": [
    "print(\"hola mundo\")\n",
    "print(\"hola mundo2\")\n",
    "print(\"hola mund3\")\n",
    "print(\"hola mundo4\")\n",
    "\n",
    "print(variable1+variable2)\n",
    "print(variable3-variable4)\n",
    "print(variable1*variable4)\n",
    "print(variable2/variable3)\n",
    "\n",
    "print(\"hola mundo\")\n",
    "print(\"hola mundo2\")\n",
    "print(\"hola mund3\")\n",
    "print(\"hola mundo4\")\n",
    "print(\"----------\")\n",
    "\n",
    "print(variable5+variable6)\n",
    "print(variable7-variable8)\n",
    "print(variable5*variable8)\n",
    "print(variable6/variable7)\n",
    "\n",
    "print(\"hola mundo\")\n",
    "print(\"hola mundo2\")\n",
    "print(\"hola mund3\")\n",
    "print(\"hola mundo4\")"
   ]
  },
  {
   "cell_type": "code",
   "execution_count": null,
   "id": "41166f43",
   "metadata": {},
   "outputs": [
    {
     "name": "stdout",
     "output_type": "stream",
     "text": [
      "3\n",
      "-1\n",
      "4\n",
      "0.6666666666666666\n"
     ]
    }
   ],
   "source": [
    "def multiples_operaciones(var1, var2, var3, var4):\n",
    "    suma= var1 + var2\n",
    "    resta= var3- var4\n",
    "    multiplicacion= var1 * var4\n",
    "    division= var2 / var3\n",
    "\n",
    "    print(suma)\n",
    "    print(resta)\n",
    "    print(multiplicacion)\n",
    "    print(division)\n",
    "    print(\"----------\")\n",
    "    \n",
    "multiples_operaciones(variable1, variable2, variable3, variable4)"
   ]
  },
  {
   "cell_type": "code",
   "execution_count": null,
   "id": "b577cb9b",
   "metadata": {},
   "outputs": [
    {
     "name": "stdout",
     "output_type": "stream",
     "text": [
      "hola mundo\n",
      "hola mundo2\n",
      "hola mund3\n",
      "hola mundo4\n",
      "3\n",
      "-1\n",
      "4\n",
      "0.6666666666666666\n",
      "hola mundo\n",
      "hola mundo2\n",
      "hola mund3\n",
      "hola mundo4\n",
      "11\n",
      "-1\n",
      "40\n",
      "0.8571428571428571\n",
      "hola mundo\n",
      "hola mundo2\n",
      "hola mund3\n",
      "hola mundo4\n"
     ]
    }
   ],
   "source": [
    "def multiples_mensajes():\n",
    "    print(\"hola mundo\")\n",
    "    print(\"hola mundo2\")\n",
    "    print(\"hola mund3\")\n",
    "    print(\"hola mundo4\")\n",
    "\n",
    "def multiples_operaciones(var1, var2, var3, var4):\n",
    "    suma= var1 + var2\n",
    "    resta= var3- var4\n",
    "    multiplicacion= var1 * var4\n",
    "    division= var2 / var3\n",
    "\n",
    "    print(suma)\n",
    "    print(resta)\n",
    "    print(multiplicacion)\n",
    "    print(division)\n",
    "    print(\"----------\")\n",
    "\n",
    "multiples_mensajes()\n",
    "multiples_operaciones(variable1, variable2, variable3, variable4)\n",
    "multiples_mensajes()\n",
    "multiples_operaciones(variable5, variable6,variable7, variable8)\n",
    "multiples_mensajes()"
   ]
  }
 ],
 "metadata": {
  "kernelspec": {
   "display_name": "Python 3",
   "language": "python",
   "name": "python3"
  },
  "language_info": {
   "codemirror_mode": {
    "name": "ipython",
    "version": 3
   },
   "file_extension": ".py",
   "mimetype": "text/x-python",
   "name": "python",
   "nbconvert_exporter": "python",
   "pygments_lexer": "ipython3",
   "version": "3.12.4"
  }
 },
 "nbformat": 4,
 "nbformat_minor": 5
}
