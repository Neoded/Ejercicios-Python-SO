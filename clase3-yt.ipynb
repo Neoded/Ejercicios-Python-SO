{
 "cells": [
  {
   "cell_type": "code",
   "execution_count": 4,
   "id": "fd90d2e9",
   "metadata": {},
   "outputs": [],
   "source": [
    "#La funcion input nos permite traer datos desde la consola ingresados por el usuario\n",
    "variable_input= input(\"Ingresa un hola mundo por favor:\")"
   ]
  },
  {
   "cell_type": "code",
   "execution_count": 15,
   "id": "dcc95119",
   "metadata": {},
   "outputs": [
    {
     "name": "stdout",
     "output_type": "stream",
     "text": [
      "33\n"
     ]
    }
   ],
   "source": [
    "#Solicitar la edad del usuario\n",
    "edad= input(\"Ingresa tu edad: \")  #33\n",
    "edad= int(edad)\n",
    "print(edad)"
   ]
  },
  {
   "cell_type": "code",
   "execution_count": 16,
   "id": "5b7dddea",
   "metadata": {},
   "outputs": [
    {
     "name": "stdout",
     "output_type": "stream",
     "text": [
      "15\n"
     ]
    }
   ],
   "source": [
    "#Quiero saber cuantos años tienes siendo mayor de edad\n",
    "diferencia_edad= int(edad) - 18\n",
    "print(diferencia_edad)"
   ]
  },
  {
   "cell_type": "code",
   "execution_count": 18,
   "id": "a3f8efc8",
   "metadata": {},
   "outputs": [
    {
     "data": {
      "text/plain": [
       "72"
      ]
     },
     "execution_count": 18,
     "metadata": {},
     "output_type": "execute_result"
    }
   ],
   "source": [
    "#Operadores numericos en python\n",
    "diferencia_edad= edad - 18 #operador de resta -\n",
    "sumar_veinte= edad + 20 #operador de suma +\n",
    "dividir_edad= edad / 2 #Operador de division /\n",
    "multiplicar_edad= edad * 3 #Operador de multiplicacion *\n",
    "\n",
    "#Reglas de operadores\n",
    "(edad + 3) * 2"
   ]
  },
  {
   "cell_type": "code",
   "execution_count": 24,
   "id": "5a6da595",
   "metadata": {},
   "outputs": [
    {
     "data": {
      "text/plain": [
       "2"
      ]
     },
     "execution_count": 24,
     "metadata": {},
     "output_type": "execute_result"
    }
   ],
   "source": [
    "#operador de modulo % - nos devuelve el resto de una division\n",
    "10 % 4"
   ]
  }
 ],
 "metadata": {
  "kernelspec": {
   "display_name": "Python 3",
   "language": "python",
   "name": "python3"
  },
  "language_info": {
   "codemirror_mode": {
    "name": "ipython",
    "version": 3
   },
   "file_extension": ".py",
   "mimetype": "text/x-python",
   "name": "python",
   "nbconvert_exporter": "python",
   "pygments_lexer": "ipython3",
   "version": "3.12.4"
  }
 },
 "nbformat": 4,
 "nbformat_minor": 5
}
