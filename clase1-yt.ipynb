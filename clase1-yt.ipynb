{
 "cells": [
  {
   "cell_type": "code",
   "execution_count": null,
   "id": "a9e0ad64",
   "metadata": {},
   "outputs": [],
   "source": [
    "#esta es la edad de edgar\n",
    "edad= 33\n",
    "\n",
    "#este es el nombre de edgar\n",
    "nombre= \"edgar\"\n",
    "\n",
    "#estos son los datos de ale cuanto trabajaba en empresa x\n",
    "pais_ale= \"mexico\"\n",
    "nombre_ale= \"ale\"\n",
    "fecha_ingreso= \"2022-12-10\"\n"
   ]
  },
  {
   "cell_type": "code",
   "execution_count": null,
   "id": "c8dfda6e",
   "metadata": {},
   "outputs": [
    {
     "data": {
      "text/plain": [
       "'edgar'"
      ]
     },
     "execution_count": 12,
     "metadata": {},
     "output_type": "execute_result"
    }
   ],
   "source": [
    "#Tipos de datos en python\n",
    "tipo_string= \"str\"   #Puenden ser comillas dobles \"\" o comillas simples ''\n",
    "tipo_integer= -20    #int, pueden ser numeros positivos o negativos, y no incluyen decimales\n",
    "tipo_float= 20.5     #float, pueden ser numeros positivos o negativos e incluyen decimales\n",
    "tipo_booleano= True  #bool, puede ser True que es igual a \"verdadero\" o False que es igual a \"falso\""
   ]
  }
 ],
 "metadata": {
  "kernelspec": {
   "display_name": "Python 3",
   "language": "python",
   "name": "python3"
  },
  "language_info": {
   "codemirror_mode": {
    "name": "ipython",
    "version": 3
   },
   "file_extension": ".py",
   "mimetype": "text/x-python",
   "name": "python",
   "nbconvert_exporter": "python",
   "pygments_lexer": "ipython3",
   "version": "3.12.4"
  }
 },
 "nbformat": 4,
 "nbformat_minor": 5
}
