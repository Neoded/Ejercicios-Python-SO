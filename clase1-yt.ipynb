{
 "cells": [
  {
   "cell_type": "code",
   "execution_count": 12,
   "id": "a9e0ad64",
   "metadata": {},
   "outputs": [],
   "source": [
    "#esta es la edad de edgar\n",
    "edad= 33\n",
    "\n",
    "#este es el nombre de edgar\n",
    "nombre= \"edgar\"\n",
    "\n",
    "#estos son los datos de ale cuanto trabajaba en empresa x\n",
    "pais_ale= \"mexico\"\n",
    "nombre_ale= \"ale\"\n",
    "fecha_ingreso= \"2022-12-10\"\n",
    "edad_ale= 20\n"
   ]
  },
  {
   "cell_type": "code",
   "execution_count": null,
   "id": "c8dfda6e",
   "metadata": {},
   "outputs": [],
   "source": [
    "#Tipos de datos en python\n",
    "tipo_string= \"str\"   #str, Puenden ser comillas dobles \"\" o comillas simples ''\n",
    "tipo_integer= -20    #int, pueden ser numeros positivos o negativos, y no incluyen decimales\n",
    "tipo_float= 20.5     #float, pueden ser numeros positivos o negativos e incluyen decimales\n",
    "tipo_booleano= True  #bool, puede ser True que es igual a \"verdadero\" o False que es igual a \"falso\""
   ]
  },
  {
   "cell_type": "code",
   "execution_count": 19,
   "id": "d1eb1445",
   "metadata": {},
   "outputs": [
    {
     "name": "stdout",
     "output_type": "stream",
     "text": [
      "mi nombre es ale y mi edad es 20\n"
     ]
    }
   ],
   "source": [
    "#Uso de print usando comas, cuando utilizamos una coma se agrega un espacio intermedio\n",
    "print(\"mi nombre es\", nombre_ale, \"y mi edad es\", edad_ale)"
   ]
  },
  {
   "cell_type": "code",
   "execution_count": 22,
   "id": "01e3f6cf",
   "metadata": {},
   "outputs": [
    {
     "name": "stdout",
     "output_type": "stream",
     "text": [
      "mi nombre es edgar y mi edad es 33\n"
     ]
    }
   ],
   "source": [
    "#Casting, conversion de tipos en python\n",
    "edad_convertida_texto= str(edad)\n",
    "\n",
    "print(\"mi nombre es \" + nombre + \" y mi edad es \" + edad_convertida_texto)"
   ]
  },
  {
   "cell_type": "code",
   "execution_count": null,
   "id": "cadd8b11",
   "metadata": {},
   "outputs": [
    {
     "name": "stdout",
     "output_type": "stream",
     "text": [
      "33 <class 'str'>\n"
     ]
    }
   ],
   "source": [
    "#Imprimir la edad convertida a texto y su tipo\n",
    "print(edad_convertida_texto, type(edad_convertida_texto))"
   ]
  },
  {
   "cell_type": "code",
   "execution_count": null,
   "id": "a0814e22",
   "metadata": {},
   "outputs": [
    {
     "name": "stdout",
     "output_type": "stream",
     "text": [
      "33 <class 'int'>\n"
     ]
    }
   ],
   "source": [
    "#Imprimir la edad sin convertir y su tipo\n",
    "print(edad, type(edad))"
   ]
  },
  {
   "cell_type": "code",
   "execution_count": 27,
   "id": "bf37a387",
   "metadata": {},
   "outputs": [],
   "source": [
    "#Casting de tipo a texto\n",
    "int_a_str= str(tipo_integer)\n",
    "float_a_str= str(tipo_float)\n",
    "bool_a_str= str(tipo_booleano)"
   ]
  },
  {
   "cell_type": "code",
   "execution_count": 28,
   "id": "fd985f07",
   "metadata": {},
   "outputs": [
    {
     "name": "stdout",
     "output_type": "stream",
     "text": [
      "-20 <class 'str'>\n",
      "20.5 <class 'str'>\n",
      "True <class 'str'>\n"
     ]
    }
   ],
   "source": [
    "#Imprimir los valores con un casting aplicado sobre ellos a tipo string\n",
    "print(int_a_str, type(int_a_str))\n",
    "print(float_a_str, type(float_a_str))\n",
    "print(bool_a_str, type(bool_a_str))"
   ]
  },
  {
   "cell_type": "code",
   "execution_count": null,
   "id": "c3e8edf5",
   "metadata": {},
   "outputs": [],
   "source": [
    "#Estas son variables string con valores int y float\n",
    "int_string= \"20\"\n",
    "float_string= \"20.5\""
   ]
  },
  {
   "cell_type": "code",
   "execution_count": 30,
   "id": "48895e70",
   "metadata": {},
   "outputs": [],
   "source": [
    "#Casting de texto con valores numericos hacia su respectivo valor int y float\n",
    "int_convertido= int(int_string)\n",
    "float_convertido= float(float_string)"
   ]
  },
  {
   "cell_type": "code",
   "execution_count": 31,
   "id": "3165d8ee",
   "metadata": {},
   "outputs": [
    {
     "name": "stdout",
     "output_type": "stream",
     "text": [
      "20 <class 'int'>\n",
      "20.5 <class 'float'>\n"
     ]
    }
   ],
   "source": [
    "#Imprimir los valores con un casting que se aplico previamente sobre ellos\n",
    "print(int_convertido, type(int_convertido))\n",
    "print(float_convertido, type(float_convertido))"
   ]
  },
  {
   "cell_type": "code",
   "execution_count": 35,
   "id": "7ffda561",
   "metadata": {},
   "outputs": [],
   "source": [
    "#Convertir los diferentes valores disponibles a bool true utilizando casting\n",
    "str_bool= bool(\"True\")\n",
    "str_uno_bool= bool(\"1\")\n",
    "int_bool= bool(1)"
   ]
  },
  {
   "cell_type": "code",
   "execution_count": 39,
   "id": "7c8578dd",
   "metadata": {},
   "outputs": [],
   "source": [
    "#Convertir los diferentes valores disponibles a bool False utilizando casting\n",
    "false_str_bool= bool(\"False\")\n",
    "str_cero_bool= bool(\"0\")\n",
    "int_cero_bool= bool(0)"
   ]
  },
  {
   "cell_type": "code",
   "execution_count": 42,
   "id": "9818f979",
   "metadata": {},
   "outputs": [
    {
     "data": {
      "text/plain": [
       "False"
      ]
     },
     "execution_count": 42,
     "metadata": {},
     "output_type": "execute_result"
    }
   ],
   "source": [
    "int_cero_bool"
   ]
  }
 ],
 "metadata": {
  "kernelspec": {
   "display_name": "Python 3",
   "language": "python",
   "name": "python3"
  },
  "language_info": {
   "codemirror_mode": {
    "name": "ipython",
    "version": 3
   },
   "file_extension": ".py",
   "mimetype": "text/x-python",
   "name": "python",
   "nbconvert_exporter": "python",
   "pygments_lexer": "ipython3",
   "version": "3.12.4"
  }
 },
 "nbformat": 4,
 "nbformat_minor": 5
}
