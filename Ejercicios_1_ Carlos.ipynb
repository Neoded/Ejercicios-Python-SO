{
 "cells": [
  {
   "cell_type": "code",
   "execution_count": 12,
   "metadata": {},
   "outputs": [
    {
     "name": "stdout",
     "output_type": "stream",
     "text": [
      "<class 'str'>\n",
      "<class 'int'>\n",
      "<class 'float'>\n",
      "<class 'bool'>\n",
      "<class 'complex'>\n"
     ]
    }
   ],
   "source": [
    "#Escribe una variable con cada uno de los tipos de datos en python.\n",
    "\n",
    "nombre = \"Soy Carlos Meza\"\n",
    "meses_trabajo = 22\n",
    "número_calzado = 8.5\n",
    "sexo_fememnino = False\n",
    "ecuación = 7+10j\n",
    "print(type(nombre))\n",
    "print(type(meses_trabajo))\n",
    "print(type(número_calzado))\n",
    "print(type(sexo_fememnino))\n",
    "print(type(ecuación))\n"
   ]
  },
  {
   "cell_type": "code",
   "execution_count": 3,
   "metadata": {},
   "outputs": [
    {
     "name": "stdout",
     "output_type": "stream",
     "text": [
      "Resultado de sumatoria con conversión de 'texto' a 'entero':  30\n",
      "Suma con conversión directa de 'texto' a 'entero':  30\n"
     ]
    }
   ],
   "source": [
    "#Escribe una variable en python que contenga un numero, otra que incluya un numero en tipo texto y después por medio de conversión, súmalos y muestralos en pantalla (print)\n",
    "valor_1 = 10 \n",
    "valor_2 = int(\"20\")\n",
    "resultado = valor_1 + valor_2\n",
    "print(\"Resultado de sumatoria con conversión de 'texto' a 'entero': \", resultado)\n",
    "\n",
    "#Ejemplo de conversión directo\n",
    "sumatoria = 10 + int(\"20\")\n",
    "print(\"Suma con conversión directa de 'texto' a 'entero': \", sumatoria)"
   ]
  },
  {
   "cell_type": "code",
   "execution_count": 2,
   "metadata": {},
   "outputs": [
    {
     "name": "stdout",
     "output_type": "stream",
     "text": [
      "Resultado de suma:  60\n",
      "Resultado de suma directa:  60\n",
      "Resultado de resta:  40\n",
      "Resultado de resta:  40\n",
      "Resultado de multiplicación:  500\n",
      "Resultado de división entera:  5\n",
      "Resultado de división decimal:  2.5\n",
      "Resultado de multiplicación de producto:  750\n"
     ]
    }
   ],
   "source": [
    "#Genera dos variables numericas y opera entre ellas con los diferentes operadores numericos, suma, resta, multiplicacion, division, producto\n",
    "\n",
    "valor1 = 50\n",
    "valor2 = 10\n",
    "\n",
    "#SUMA\n",
    "suma = valor1 + valor2\n",
    "print(\"Resultado de suma: \", suma)\n",
    "#Otro método directo\n",
    "print(\"Resultado de suma directa: \", valor1 + valor2)\n",
    "\n",
    "#RESTA\n",
    "resta = valor1 - valor2\n",
    "print(\"Resultado de resta: \", resta)\n",
    "print(\"Resultado de resta: \", valor1 - valor2)\n",
    "\n",
    "#MULTIPLICACIÓN\n",
    "multiplicación = valor1 * valor2\n",
    "print(\"Resultado de multiplicación: \", multiplicación)\n",
    "\n",
    "#DIVISIÓN ENTERA\n",
    "división = valor1 // valor2\n",
    "print(\"Resultado de división entera: \", división)\n",
    "\n",
    "#DIVISÓN DECIMAL\n",
    "valor_1 = 10\n",
    "valor_2 = 4\n",
    "división_decimal = valor_1 / valor_2 \n",
    "print(\"Resultado de división decimal: \", división_decimal)\n",
    "\n",
    "#PRODUCTO\n",
    "a = 5\n",
    "b = 10\n",
    "c = 15\n",
    "producto = a * b * c\n",
    "print(\"Resultado de multiplicación de producto: \", producto)"
   ]
  }
 ],
 "metadata": {
  "kernelspec": {
   "display_name": "Python 3",
   "language": "python",
   "name": "python3"
  },
  "language_info": {
   "codemirror_mode": {
    "name": "ipython",
    "version": 3
   },
   "file_extension": ".py",
   "mimetype": "text/x-python",
   "name": "python",
   "nbconvert_exporter": "python",
   "pygments_lexer": "ipython3",
   "version": "3.13.2"
  }
 },
 "nbformat": 4,
 "nbformat_minor": 2
}
