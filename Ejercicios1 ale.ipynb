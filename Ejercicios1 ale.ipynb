{
 "cells": [
  {
   "cell_type": "code",
   "execution_count": null,
   "metadata": {},
   "outputs": [],
   "source": [
    "#Escribe una variable con cada uno de los tipos de datos en python\n",
    "numerica= 1\n",
    "integer= 1\n",
    "float= 1.3\n",
    "string= \"Hola\"\n",
    "boolean= True\n",
    "boolean= False\n",
    "lista= [1,2,3,4,5]\n",
    "dictionary= {\"nombre\": \"Edgar\", \"apellido\": \"Antonio\"}\n",
    "tupla= (1,2,3,4,5)\n",
    "conjunto= {1, 2, 3, 4, 5}\n"
   ]
  },
  {
   "cell_type": "code",
   "execution_count": 2,
   "metadata": {},
   "outputs": [
    {
     "name": "stdout",
     "output_type": "stream",
     "text": [
      "73\n",
      "88\n"
     ]
    }
   ],
   "source": [
    "#Escribe una variable en python que contenga un numero, otra que incluya un numero en tipo texto y espues por medio de conversion sumalos y muestralos en pantalla (print)\n",
    "peso=58\n",
    "altura=\"15\"\n",
    "print(peso+int(altura))\n",
    "masa=36\n",
    "volumen=int(\"52\")\n",
    "print(masa+volumen)\n"
   ]
  },
  {
   "cell_type": "code",
   "execution_count": 1,
   "metadata": {},
   "outputs": [
    {
     "name": "stdout",
     "output_type": "stream",
     "text": [
      "Suma: 15\n",
      "Resta: 5\n",
      "Multiplicación: 50\n",
      "División: 2.0\n",
      "Producto entero: 2\n",
      "Módulo: 0\n",
      "Potencia: 100000\n"
     ]
    }
   ],
   "source": [
    "#Genera dos variables numericas y opera entre ellas con los diferentes operadores numericos, suma, resta, multiplicacion, division, producto\n",
    "#entero, modulo, potencia\n",
    "\n",
    "num1 = 10\n",
    "num2 = 5\n",
    "\n",
    "suma = num1 + num2\n",
    "resta = num1 - num2\n",
    "multiplicacion = num1 * num2\n",
    "division = num1 / num2\n",
    "producto_entero = num1 // num2\n",
    "modulo = num1 % num2\n",
    "potencia = num1 ** num2\n",
    "\n",
    "print(\"Suma:\", suma)\n",
    "print(\"Resta:\", resta)\n",
    "print(\"Multiplicación:\", multiplicacion)\n",
    "print(\"División:\", division)\n",
    "print(\"Producto entero:\", producto_entero)\n",
    "print(\"Módulo:\", modulo)\n",
    "print(\"Potencia:\", potencia)\n"
   ]
  }
 ],
 "metadata": {
  "kernelspec": {
   "display_name": "Python 3",
   "language": "python",
   "name": "python3"
  },
  "language_info": {
   "codemirror_mode": {
    "name": "ipython",
    "version": 3
   },
   "file_extension": ".py",
   "mimetype": "text/x-python",
   "name": "python",
   "nbconvert_exporter": "python",
   "pygments_lexer": "ipython3",
   "version": "3.12.4"
  }
 },
 "nbformat": 4,
 "nbformat_minor": 2
}
