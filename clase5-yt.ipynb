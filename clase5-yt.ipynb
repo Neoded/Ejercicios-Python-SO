{
 "cells": [
  {
   "cell_type": "code",
   "execution_count": 8,
   "id": "ec016897",
   "metadata": {},
   "outputs": [
    {
     "name": "stdout",
     "output_type": "stream",
     "text": [
      "['python', 'js', 'r']\n"
     ]
    }
   ],
   "source": [
    "#como funcionan los diccionarios\n",
    "diccionario= {\"clave\": \"valor\"}\n",
    "\n",
    "#Crear un diccionario con mi nombre\n",
    "mis_datos= {\"nombre\": \"edgar\",\n",
    "            \"edad\": 33,\n",
    "            \"lenguajes\": [\"python\", \"js\", \"r\"]}\n",
    "\n",
    "print(mis_datos[\"lenguajes\"])"
   ]
  },
  {
   "cell_type": "code",
   "execution_count": 10,
   "id": "a31577a1",
   "metadata": {},
   "outputs": [],
   "source": [
    "#Agregar una clave y valor a un diccionario\n",
    "mis_datos[\"lugar_residencia\"]= \"Queretaro\"  #lugar de residencia no existia anteriormente"
   ]
  },
  {
   "cell_type": "code",
   "execution_count": 13,
   "id": "b589a4cf",
   "metadata": {},
   "outputs": [],
   "source": [
    "#Editar los valores de un diccionario utilizando su clave\n",
    "mis_datos[\"nombre\"]= \"Edgar Antonio\""
   ]
  },
  {
   "cell_type": "code",
   "execution_count": 15,
   "id": "6aebc4d0",
   "metadata": {},
   "outputs": [
    {
     "name": "stdout",
     "output_type": "stream",
     "text": [
      "{'nombre': 'Edgar Antonio', 'edad': 33, 'lenguajes': ['python', 'js', 'r'], 'lugar_residencia': 'Queretaro'}\n"
     ]
    }
   ],
   "source": [
    "print(mis_datos)"
   ]
  },
  {
   "cell_type": "code",
   "execution_count": null,
   "id": "ca814596",
   "metadata": {},
   "outputs": [],
   "source": [
    "sets= ()"
   ]
  }
 ],
 "metadata": {
  "kernelspec": {
   "display_name": "Python 3",
   "language": "python",
   "name": "python3"
  },
  "language_info": {
   "codemirror_mode": {
    "name": "ipython",
    "version": 3
   },
   "file_extension": ".py",
   "mimetype": "text/x-python",
   "name": "python",
   "nbconvert_exporter": "python",
   "pygments_lexer": "ipython3",
   "version": "3.12.4"
  }
 },
 "nbformat": 4,
 "nbformat_minor": 5
}
