{
 "cells": [
  {
   "cell_type": "code",
   "execution_count": null,
   "id": "6c48d0f8",
   "metadata": {},
   "outputs": [],
   "source": [
    "#Utiliza este diccionario para todos los ejercicios\n",
    "frutas = [\"manzana\", \"pera\", \"manzana\", \"naranja\", \"pera\", \"manzana\", \"kiwi\", \"kiwi\", \"pera\", \"manzana\", \"pera\", \"kiwi\"]"
   ]
  },
  {
   "cell_type": "code",
   "execution_count": null,
   "id": "08d459ea",
   "metadata": {},
   "outputs": [],
   "source": [
    "#Utiliza for para imprimir todos los elementos de la lista de frutas uno por uno"
   ]
  },
  {
   "cell_type": "code",
   "execution_count": null,
   "id": "354e53b8",
   "metadata": {},
   "outputs": [],
   "source": [
    "#Utiliza for para iterar a traves de las frutas, si la fruta es manzana imprime la fruta"
   ]
  },
  {
   "cell_type": "code",
   "execution_count": null,
   "id": "b9e81a70",
   "metadata": {},
   "outputs": [],
   "source": [
    "contador= 0\n",
    "#Itera a traves de la lista de frutas, cada vez que la fruta sea manzana imprime la fruta y suma uno a contador, al final del bucle imprime la cantidad de manzanas"
   ]
  },
  {
   "cell_type": "code",
   "execution_count": null,
   "id": "e232a207",
   "metadata": {},
   "outputs": [],
   "source": [
    "frutas_2= []\n",
    "#Itera por la lista de frutas, imprime cada fruta de manera individual y agrega cada una de las frutas a frutas_2\n",
    "#Al final imprime la lista frutas_2"
   ]
  },
  {
   "cell_type": "code",
   "execution_count": null,
   "id": "5cfd6a3f",
   "metadata": {},
   "outputs": [],
   "source": [
    "frutas_3= []\n",
    "#Itera por la lista de frutas y agrega solo las manzanas a frutas_3\n",
    "#Al final imprime la lista frutas_3"
   ]
  },
  {
   "cell_type": "code",
   "execution_count": null,
   "id": "7bb6b408",
   "metadata": {},
   "outputs": [],
   "source": [
    "lista_alternativa= [\"manzana\", \"kiwi\"]\n",
    "#Itera a traves de la lista de frutas, utiliza if para imprimir si la fruta esta dentro de fruta alternativa y else para imprimir la fruta no existe en la lista alternativa"
   ]
  },
  {
   "cell_type": "code",
   "execution_count": null,
   "id": "8873100f",
   "metadata": {},
   "outputs": [],
   "source": [
    "frutas_sin_repetir= []\n",
    "#Itera a traves de la lista de frutas, revisa si la fruta ya se encuentra en la lista frutas sin repetir, si ya se encuentra continua sin hacer nada, si no se encuentra\n",
    "# agregala a la lista"
   ]
  },
  {
   "cell_type": "code",
   "execution_count": null,
   "id": "30f0ae07",
   "metadata": {},
   "outputs": [],
   "source": [
    "frutas_sin_repetir= [\"manzana\", \"pera\", \"naranja\", \"kiwi\"]\n",
    "diccionario_frutas= {}\n",
    "#Agrega en el diccionario de frutas una clave llamada frutas y su valor sera la lista frutas sin repetir, imprime el diccionario"
   ]
  },
  {
   "cell_type": "code",
   "execution_count": null,
   "id": "6ba01535",
   "metadata": {},
   "outputs": [],
   "source": [
    "diccionario_frutas= {}\n",
    "#Agrega al diccionario de frutas una clave llamada \"manzana\" con un valor 0"
   ]
  },
  {
   "cell_type": "code",
   "execution_count": null,
   "id": "c0528e49",
   "metadata": {},
   "outputs": [],
   "source": [
    "frutas_sin_repetir= [\"manzana\", \"pera\", \"naranja\", \"kiwi\"]\n",
    "diccionario_frutas= {}\n",
    "#Itera a traves de frutas sin repetir, por cada uno agrega una clave que tendra el nombre de la fruta y su valor sera 0"
   ]
  },
  {
   "cell_type": "code",
   "execution_count": null,
   "id": "56afc90f",
   "metadata": {},
   "outputs": [],
   "source": [
    "frutas_sin_repetir= [\"manzana\", \"pera\", \"naranja\", \"kiwi\"]\n",
    "diccionario_frutas= {}\n",
    "#Itera a traves de frutas sin repetir, por cada uno agrega una clave que tendra el nombre de la fruta y su valor sera 0"
   ]
  },
  {
   "cell_type": "code",
   "execution_count": null,
   "id": "d2e25bd2",
   "metadata": {},
   "outputs": [],
   "source": [
    "#Cuenta la cantidad de manzanas en la lista \"frutas\""
   ]
  },
  {
   "cell_type": "code",
   "execution_count": null,
   "id": "0a99ea4d",
   "metadata": {},
   "outputs": [],
   "source": [
    "frutas_sin_repetir= [\"manzana\", \"pera\", \"naranja\", \"kiwi\"]\n",
    "#Itera a traves de la lista frutas sin repetir y por cada valor imprime la cantidad de esa fruta en la lista frutas"
   ]
  }
 ],
 "metadata": {
  "language_info": {
   "name": "python"
  }
 },
 "nbformat": 4,
 "nbformat_minor": 5
}
