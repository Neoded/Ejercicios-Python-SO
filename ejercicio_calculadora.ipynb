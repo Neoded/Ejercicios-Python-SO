{
 "cells": [
  {
   "cell_type": "code",
   "execution_count": null,
   "id": "fbd46524",
   "metadata": {},
   "outputs": [],
   "source": [
    "#Crea una variable que pida al usuario un numero"
   ]
  },
  {
   "cell_type": "code",
   "execution_count": null,
   "id": "bb21fa18",
   "metadata": {},
   "outputs": [],
   "source": [
    "variable= \"tipo\"\n",
    "#Imprime el tipo de variable utilizando type"
   ]
  },
  {
   "cell_type": "code",
   "execution_count": null,
   "id": "b0c2c052",
   "metadata": {},
   "outputs": [],
   "source": [
    "#Crea una variable que pida al usuario un numero, despues convierte esa variable en tipo int, imprime la variable y en otra linea imprime su tipo"
   ]
  },
  {
   "cell_type": "code",
   "execution_count": null,
   "id": "d32e12ac",
   "metadata": {},
   "outputs": [],
   "source": [
    "#Crea una funcion que imprima \"hola mundo\""
   ]
  },
  {
   "cell_type": "code",
   "execution_count": null,
   "id": "1b0722c3",
   "metadata": {},
   "outputs": [],
   "source": [
    "#Crea una funcion que pida al usuario dos numeros, al final imprime ambos numeros en una sola linea"
   ]
  },
  {
   "cell_type": "code",
   "execution_count": null,
   "id": "e53763d7",
   "metadata": {},
   "outputs": [],
   "source": [
    "#Crea una funcion que pida al usuario un texto \n",
    "# si el texto es igual a \"+\" imprime \"sumar\"\n",
    "# si el texto es igual a \"-\" imprime \"restar\"\n",
    "# si el texto es igual a \"*\" imprime \"multiplicar\"\n",
    "# si el texto es igual a \"/\" imprime \"dividir\""
   ]
  },
  {
   "cell_type": "code",
   "execution_count": null,
   "id": "b973a0cd",
   "metadata": {},
   "outputs": [],
   "source": [
    "#Crea una funcion que pida al usuario dos numeros, al final imprime la suma de los dos numeros"
   ]
  },
  {
   "cell_type": "code",
   "execution_count": null,
   "id": "406c0b39",
   "metadata": {},
   "outputs": [],
   "source": [
    "#Crea una funcion que pida al usuario dos numeros, al final imprime la resta de los dos numeros"
   ]
  },
  {
   "cell_type": "code",
   "execution_count": null,
   "id": "a7671008",
   "metadata": {},
   "outputs": [],
   "source": [
    "#Crea una funcion que pida al usuario dos numeros, al final imprime la multiplicacion de los dos numeros"
   ]
  },
  {
   "cell_type": "code",
   "execution_count": null,
   "id": "9385b30b",
   "metadata": {},
   "outputs": [],
   "source": [
    "#Crea un programa que pida al usuario dos numeros, si alguno es 0 imprime \"no puedes utilizar 0\""
   ]
  },
  {
   "cell_type": "code",
   "execution_count": null,
   "id": "11dd9765",
   "metadata": {},
   "outputs": [],
   "source": [
    "#Crea un programa que pida al usuario dos numeros, \n",
    "# si alguno es 0 imprime \"no puede dividirse entre 0\"\n",
    "# si ninguno es 0, al final imprime la division de ambos numeros"
   ]
  },
  {
   "cell_type": "markdown",
   "id": "fa87dc7b",
   "metadata": {},
   "source": [
    "#Crea un programa calculadora\n",
    "El programa debe pedir 2 números\n",
    "Si el dato no es un numero deberá enviar el mensaje \"Solo pueden introducirse números\"\n",
    "Después le pedirá al usuario una palabra, \"sumar\", \"restar\", \"multiplicar\", \"dividir\"\n",
    "Si el usuario no escribe la palabra correcta, volver a solicitar la palabra de operacion\n",
    "\n",
    "Crear una función para cada operación y que devuelva el resultado con base en la selección del usuario\n",
    "El programa debe devolver el resultado por print"
   ]
  }
 ],
 "metadata": {
  "language_info": {
   "name": "python"
  }
 },
 "nbformat": 4,
 "nbformat_minor": 5
}
