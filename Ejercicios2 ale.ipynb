{
 "cells": [
  {
   "cell_type": "markdown",
   "metadata": {},
   "source": [
    "### Crea una varible que contenga datos por cada uno de los tipos de estructura de datos lista, tupla, conjunto y diccionario"
   ]
  },
  {
   "cell_type": "code",
   "execution_count": null,
   "metadata": {},
   "outputs": [
    {
     "name": "stdout",
     "output_type": "stream",
     "text": [
      "['perro', 'gato', 'loro', 'cocodrilo']\n",
      "3.1416\n",
      "{1, 2, 3, 4, 5}\n",
      "{'nombre': 'Juan', 'edad': 30, 'ciudad': 'Madrid'}\n"
     ]
    }
   ],
   "source": [
    "#tipo de datos listas\n",
    "animales = [\"perro\", \"gato\", \"loro\", \"cocodrilo\"]\n",
    "#tipo de datos tuplas\n",
    "pi = (3.1416)\n",
    "#tipo de dato conjunto\n",
    "numeros = {1, 2, 3, 4, 5}\n",
    "#tipo de dato diccionario, se visualiza mejor si se separa por espacios de renglones cada clave-valor\n",
    "persona = {\"nombre\": \"Juan\",\n",
    "            \"edad\": 30,\n",
    "            \"ciudad\": \"Madrid\"}\n",
    "#impresion por pantalla\n",
    "print(animales)\n",
    "print(pi)\n",
    "print(numeros)\n",
    "print(persona)"
   ]
  },
  {
   "cell_type": "markdown",
   "metadata": {},
   "source": [
    "### Utilizando las estructuras anteriores muestra el primer y ultimo elemento de una lista por pantalla (utiliza print) del tipo de dato lista"
   ]
  },
  {
   "cell_type": "code",
   "execution_count": 22,
   "metadata": {},
   "outputs": [
    {
     "name": "stdout",
     "output_type": "stream",
     "text": [
      "primer animal: perro ,  ultimo animal: cocodrilo\n"
     ]
    }
   ],
   "source": [
    "print(\"primer animal:\",animales[0],\", \",\"ultimo animal:\", animales[3])"
   ]
  },
  {
   "cell_type": "markdown",
   "metadata": {},
   "source": [
    "### Los diccionarios utilizan una relacion clave valor, del diccionario que creaste anteriormente muestra todos sus valores uno por uno utilizando print"
   ]
  },
  {
   "cell_type": "code",
   "execution_count": null,
   "metadata": {},
   "outputs": [
    {
     "name": "stdout",
     "output_type": "stream",
     "text": [
      "Juan\n",
      "30\n",
      "Madrid\n",
      "mi nombre es Juan tengo 30 años  y soy originario de  Madrid\n"
     ]
    }
   ],
   "source": [
    "#se imprime el diccionario de ambas formas, se añadio texto en la segunda como modo interactivo pero no es necesario\n",
    "print(persona[\"nombre\"])\n",
    "print(persona[\"edad\"])\n",
    "print(persona[\"ciudad\"])\n",
    "print(\"mi nombre es\",persona[\"nombre\"],\"tengo\", persona[\"edad\"],\"años\", \" y soy originario de \", persona[\"ciudad\"])"
   ]
  },
  {
   "cell_type": "markdown",
   "metadata": {},
   "source": [
    "### Esta tarea requiere investigacion, en la lista que creaste anteriormente, utiliza un metodo (parecido a funcion) que añada a tu lista \"SpeakOn was here\"\n",
    "### Esto se hace con codigo python y no puedes agregar codigo a la lista que creaste arriba"
   ]
  },
  {
   "cell_type": "code",
   "execution_count": null,
   "metadata": {},
   "outputs": [
    {
     "name": "stdout",
     "output_type": "stream",
     "text": [
      "['perro', 'gato', 'loro', 'cocodrilo', 'sepeak on was here', 'sepeak on was here']\n"
     ]
    }
   ],
   "source": [
    "#se pueden usar ambas opciones \n",
    "#animales.insert(4,\"sepeak on was here\")\n",
    "animales.append(\"sepeak on was here\")\n",
    "print(animales)"
   ]
  },
  {
   "cell_type": "code",
   "execution_count": null,
   "metadata": {},
   "outputs": [],
   "source": []
  }
 ],
 "metadata": {
  "kernelspec": {
   "display_name": "Python 3",
   "language": "python",
   "name": "python3"
  },
  "language_info": {
   "codemirror_mode": {
    "name": "ipython",
    "version": 3
   },
   "file_extension": ".py",
   "mimetype": "text/x-python",
   "name": "python",
   "nbconvert_exporter": "python",
   "pygments_lexer": "ipython3",
   "version": "3.12.4"
  }
 },
 "nbformat": 4,
 "nbformat_minor": 2
}
