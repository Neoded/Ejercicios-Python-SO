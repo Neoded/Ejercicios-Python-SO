{
 "cells": [
  {
   "cell_type": "code",
   "execution_count": null,
   "id": "61c4b922",
   "metadata": {},
   "outputs": [],
   "source": [
    "#Tipo Bool\n",
    "verdadero= True #Recordemos que su valor numerico es igual a 1\n",
    "false= False #Recordemos que su valor numerico es igual a 0"
   ]
  },
  {
   "cell_type": "code",
   "execution_count": null,
   "id": "d1235dd0",
   "metadata": {},
   "outputs": [
    {
     "data": {
      "text/plain": [
       "True"
      ]
     },
     "execution_count": 1,
     "metadata": {},
     "output_type": "execute_result"
    }
   ],
   "source": [
    "#Los operadores logicos son and, or, not, in\n",
    "True and True\n"
   ]
  },
  {
   "cell_type": "code",
   "execution_count": 9,
   "id": "91966cd4",
   "metadata": {},
   "outputs": [
    {
     "data": {
      "text/plain": [
       "False"
      ]
     },
     "execution_count": 9,
     "metadata": {},
     "output_type": "execute_result"
    }
   ],
   "source": [
    "#En el caso de que alguno de los elementos que se estan comparando con and sea False el resultado sera False\n",
    "#False and True\n",
    "#True and False\n",
    "False and False"
   ]
  },
  {
   "cell_type": "code",
   "execution_count": 7,
   "id": "f1572642",
   "metadata": {},
   "outputs": [
    {
     "data": {
      "text/plain": [
       "True"
      ]
     },
     "execution_count": 7,
     "metadata": {},
     "output_type": "execute_result"
    }
   ],
   "source": [
    "#El uso de or evalua si alguna de las condiciones es True\n",
    "#True or True\n",
    "#True or False\n",
    "False or True"
   ]
  },
  {
   "cell_type": "code",
   "execution_count": 8,
   "id": "3ae9438e",
   "metadata": {},
   "outputs": [
    {
     "data": {
      "text/plain": [
       "False"
      ]
     },
     "execution_count": 8,
     "metadata": {},
     "output_type": "execute_result"
    }
   ],
   "source": [
    "#Si ambos elementos al evaluar con or son False, el resultado sera False\n",
    "False or False"
   ]
  },
  {
   "cell_type": "code",
   "execution_count": 10,
   "id": "503c929d",
   "metadata": {},
   "outputs": [
    {
     "data": {
      "text/plain": [
       "True"
      ]
     },
     "execution_count": 10,
     "metadata": {},
     "output_type": "execute_result"
    }
   ],
   "source": [
    "#Lo que realiza not es invertir el resultado de una evaluacion logica\n",
    "not False"
   ]
  },
  {
   "cell_type": "code",
   "execution_count": 11,
   "id": "b704957a",
   "metadata": {},
   "outputs": [
    {
     "data": {
      "text/plain": [
       "False"
      ]
     },
     "execution_count": 11,
     "metadata": {},
     "output_type": "execute_result"
    }
   ],
   "source": [
    "#Invertir ahora True\n",
    "not True"
   ]
  },
  {
   "cell_type": "code",
   "execution_count": null,
   "id": "80e84ab2",
   "metadata": {},
   "outputs": [
    {
     "name": "stdout",
     "output_type": "stream",
     "text": [
      "False\n"
     ]
    }
   ],
   "source": [
    "#Evaluar si algun elemento esta dentro de otro utilizando in\n",
    "nombre_completo= \"Edgar Antonio\"\n",
    "nombre_parcial= \"Edgar\"\n",
    "\n",
    "print(nombre_parcial in nombre_completo)"
   ]
  },
  {
   "cell_type": "code",
   "execution_count": null,
   "id": "ff02b417",
   "metadata": {},
   "outputs": [
    {
     "name": "stdout",
     "output_type": "stream",
     "text": [
      "True\n"
     ]
    }
   ],
   "source": [
    "#El mayor potencial de in, es evaluar si una variable esta dentro de un tipo de dato avanzado\n",
    "fruta = \"kiwi\"\n",
    "lista_frutas= [\"mango\", \"manzana\", \"kiwi\"]\n",
    "\n",
    "print(fruta in lista_frutas)"
   ]
  },
  {
   "cell_type": "code",
   "execution_count": 17,
   "id": "ac3ba4dc",
   "metadata": {},
   "outputs": [
    {
     "data": {
      "text/plain": [
       "True"
      ]
     },
     "execution_count": 17,
     "metadata": {},
     "output_type": "execute_result"
    }
   ],
   "source": [
    "#Se pueden conjugar operadores logicos\n",
    "not False and True"
   ]
  },
  {
   "cell_type": "code",
   "execution_count": 18,
   "id": "cf90dfe0",
   "metadata": {},
   "outputs": [
    {
     "data": {
      "text/plain": [
       "False"
      ]
     },
     "execution_count": 18,
     "metadata": {},
     "output_type": "execute_result"
    }
   ],
   "source": [
    "not True or False"
   ]
  },
  {
   "cell_type": "code",
   "execution_count": null,
   "id": "ede286a0",
   "metadata": {},
   "outputs": [
    {
     "data": {
      "text/plain": [
       "True"
      ]
     },
     "execution_count": 21,
     "metadata": {},
     "output_type": "execute_result"
    }
   ],
   "source": [
    "True and True or False"
   ]
  }
 ],
 "metadata": {
  "kernelspec": {
   "display_name": "Python 3",
   "language": "python",
   "name": "python3"
  },
  "language_info": {
   "codemirror_mode": {
    "name": "ipython",
    "version": 3
   },
   "file_extension": ".py",
   "mimetype": "text/x-python",
   "name": "python",
   "nbconvert_exporter": "python",
   "pygments_lexer": "ipython3",
   "version": "3.12.4"
  }
 },
 "nbformat": 4,
 "nbformat_minor": 5
}
