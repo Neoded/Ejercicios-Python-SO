{
 "cells": [
  {
   "cell_type": "markdown",
   "id": "2e7c6284",
   "metadata": {},
   "source": [
    "### Crea una variable numerica y despues imprime por pantalla utilizando el operador de igualdad si ese numero es igual a 10"
   ]
  },
  {
   "cell_type": "code",
   "execution_count": 5,
   "id": "708dfce2",
   "metadata": {},
   "outputs": [
    {
     "data": {
      "text/plain": [
       "False"
      ]
     },
     "execution_count": 5,
     "metadata": {},
     "output_type": "execute_result"
    }
   ],
   "source": [
    "edad= 25\n",
    "\"edad\" == 10"
   ]
  },
  {
   "cell_type": "markdown",
   "id": "501c1dbc",
   "metadata": {},
   "source": [
    "### Crea una variable con tu nombre y despues utilizando el operador de diferencia revisa si la primera letra de tu nombre corresponde a la letra A"
   ]
  },
  {
   "cell_type": "code",
   "execution_count": 22,
   "id": "8bd3198a",
   "metadata": {},
   "outputs": [
    {
     "data": {
      "text/plain": [
       "False"
      ]
     },
     "execution_count": 22,
     "metadata": {},
     "output_type": "execute_result"
    }
   ],
   "source": [
    "nombre = \"Alejandra\"\n",
    "nombre[0].lower() != \"a\"[0]"
   ]
  },
  {
   "cell_type": "markdown",
   "id": "3d6a4960",
   "metadata": {},
   "source": [
    "### ¿Tienes permiso para beber alcohol y tienes menos de 65 años? Crea una variable con tu edad y despues imprime por pantalla el resultado de la evaluacion entre ambas edades"
   ]
  },
  {
   "cell_type": "code",
   "execution_count": null,
   "id": "f5bedbe8",
   "metadata": {},
   "outputs": [
    {
     "data": {
      "text/plain": [
       "False"
      ]
     },
     "execution_count": 33,
     "metadata": {},
     "output_type": "execute_result"
    }
   ],
   "source": [
    "#se realiza un comparativo utilizando el operador logico and \n",
    "edad = 65\n",
    "edad_requerida = 65\n",
    "permiso_para_beber = True\n",
    "edad < edad_requerida and permiso_para_beber"
   ]
  },
  {
   "cell_type": "markdown",
   "id": "a03e5b8f",
   "metadata": {},
   "source": [
    "### Investiga el operador IN en python, despues crea una lista con 5 nombres distintos, crea una variable con tu nombre y despues utilizando in, evalua e imprime por pantalla si tu nombre se encuentra dentro de esa lista"
   ]
  },
  {
   "cell_type": "code",
   "execution_count": null,
   "id": "b2acc324",
   "metadata": {},
   "outputs": [
    {
     "name": "stdout",
     "output_type": "stream",
     "text": [
      "True\n",
      "False\n"
     ]
    }
   ],
   "source": [
    "vehiculos = [\"auto\", \"moto\", \"camion\", \"tactor\", \"carreta\"]\n",
    "print(\"camion\" in vehiculos)\n",
    "#se adiciono en ejercicio busqueda de elemento (letra) en una cadena tomando la posicion de la lista de vehiculos\n",
    "print('a' in [4])"
   ]
  },
  {
   "cell_type": "code",
   "execution_count": null,
   "id": "41b2f68b",
   "metadata": {},
   "outputs": [],
   "source": []
  }
 ],
 "metadata": {
  "kernelspec": {
   "display_name": "Python 3",
   "language": "python",
   "name": "python3"
  },
  "language_info": {
   "codemirror_mode": {
    "name": "ipython",
    "version": 3
   },
   "file_extension": ".py",
   "mimetype": "text/x-python",
   "name": "python",
   "nbconvert_exporter": "python",
   "pygments_lexer": "ipython3",
   "version": "3.12.4"
  }
 },
 "nbformat": 4,
 "nbformat_minor": 5
}
