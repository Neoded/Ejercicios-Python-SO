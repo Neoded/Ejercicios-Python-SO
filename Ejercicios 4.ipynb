{
 "cells": [
  {
   "cell_type": "markdown",
   "id": "f6d9d5fa",
   "metadata": {},
   "source": [
    "### Crea un programa que cuente del 1 al 10 utilizando while, pero si detecta un numero 7 debe imprimir \"Buena Suerte\" en su lugar"
   ]
  },
  {
   "cell_type": "code",
   "execution_count": null,
   "id": "7a635052",
   "metadata": {},
   "outputs": [],
   "source": []
  },
  {
   "cell_type": "markdown",
   "id": "228a61aa",
   "metadata": {},
   "source": [
    "### Crea una lista de nombres, con al menos 5, despues imprimelos por pantalla con for, si el nombre no incluye una letra a debe imprimir algo como \"Luis - pero no tiene letra a...\""
   ]
  },
  {
   "cell_type": "code",
   "execution_count": null,
   "id": "8eff602a",
   "metadata": {},
   "outputs": [],
   "source": []
  },
  {
   "cell_type": "markdown",
   "id": "dd624cf8",
   "metadata": {},
   "source": [
    "### Requiere Investigacion, utiliza la funcion input para pedir el nombre completo y la edad, al finalizar la captura debe indicar dos cosas, si es mayor de edad, y si el nombre es mayor a 5 letras"
   ]
  },
  {
   "cell_type": "code",
   "execution_count": null,
   "id": "9746a63c",
   "metadata": {},
   "outputs": [],
   "source": []
  },
  {
   "cell_type": "markdown",
   "id": "a2c5d58a",
   "metadata": {},
   "source": [
    "### Requiere investigacion, crea una lista vacia, despues verifica si el texto introducido es un numero con el parametro isdigit, si el texto es igual a un numero, guardalo en la lista, en caso contrario, guarda el texto \"intento fallido\", al final imprime la lista con el resultado, debe repetirse 5 veces"
   ]
  },
  {
   "cell_type": "code",
   "execution_count": null,
   "id": "6d3cec6e",
   "metadata": {},
   "outputs": [],
   "source": []
  },
  {
   "cell_type": "markdown",
   "id": "dab97c7f",
   "metadata": {},
   "source": [
    "### Vas a crear un juego, debe solicitar un numero al usuario, despues debe entregar un mensaje de acuerdo a las condiciones siguientes\n",
    " - Si el numero es igual entregar un mensaje \"Ganaste el premio mayor al adivinar el numero\"\n",
    " - Si la diferencia entre el numero del usuario y el numero seleccionado por el sistema es igual a 1 entregar un mensaje \"Ganaste un intento gratis, vuelve a intentar\"\n",
    " - Si la diferencia entre el numero del usuario y el numero seleccionado por el sistema es igual a 2 entregar un mensaje \"Estuviste cerca, suerte para la proxima\"\n",
    " - En cualquier caso distinto entregar el mensaje \"Mala suerte, el numero ganador era {numero_ganador}\"\n",
    "\n",
    "### Aspectos a considerar:\n",
    " - Debe verificar que reciba numeros, en caso contrario enviar un mensaje \"Eso no es un numero, cerrando el programa\", y finalizar\n",
    " - Al inicio del juego debe pedir al usuario el numero de creditos que \"inserto\", maximo 3 si ingresa mayor, enviar un mensaje \"Creditos excedidos, te devuelvo {diferencia de creditos}\"\n",
    "      devolver la cantidad de creditos y el maximo fijarlo en 3\n",
    " - El juego se repetira el numero de veces que indico el usuario\n",
    " - Si gana un intento gratis debera sumarlo en la cantidad de creditos\n",
    " - Al finalizar indicar un mensaje con la siguiente estructura:\n",
    "    Numero de intentos : {intentos}\n",
    "    Victorias : {victorias}\n",
    "    Derrotas : {derrotas}"
   ]
  },
  {
   "cell_type": "code",
   "execution_count": 1,
   "id": "62e1f6e3",
   "metadata": {},
   "outputs": [],
   "source": [
    "#Este codigo es necesario para el programa, elige un numero aleatorio en el rango entre 1 y 8, se excluye 8\n",
    "import random\n",
    "numero_ganador= random.choice(range(1,8))\n",
    "\n",
    "#Tu codigo empieza aqui\n"
   ]
  }
 ],
 "metadata": {
  "kernelspec": {
   "display_name": "Python 3",
   "language": "python",
   "name": "python3"
  },
  "language_info": {
   "codemirror_mode": {
    "name": "ipython",
    "version": 3
   },
   "file_extension": ".py",
   "mimetype": "text/x-python",
   "name": "python",
   "nbconvert_exporter": "python",
   "pygments_lexer": "ipython3",
   "version": "3.12.4"
  }
 },
 "nbformat": 4,
 "nbformat_minor": 5
}
