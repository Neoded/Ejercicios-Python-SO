{
 "cells": [
  {
   "cell_type": "code",
   "execution_count": null,
   "id": "81c7d95f",
   "metadata": {},
   "outputs": [],
   "source": [
    "\n",
    "print(\"\\nEjercicio 1: Imprimir mensajes\")\n",
    "print(\"Escribe un programa que imprima tu nombre y tu ciudad en líneas separadas.\")\n",
    "\n",
    "### Completa aquí\n",
    "\n",
    "print(\"--------------\")\n",
    "\n",
    "print(\"\\nEjercicio 2: Muestra los tipos de datos de las siguientes variables:\")\n",
    "print(\"Usa el comando 'type()' para determinar el tipo de datos de cada variable.\")\n",
    "a = 15\n",
    "b = 3.14159\n",
    "c = \"Hola mundo\"\n",
    "d = True\n",
    "e = None\n",
    "\n",
    "### Completa aquí\n",
    "\n",
    "print(\"--------------\")\n",
    "\n",
    "print(\"\\nEjercicio 3: Casting de tipos\")\n",
    "print(\"Convierte la cadena \\\"12345\\\" a un entero y luego a un float.\")\n",
    "print(\"Convierte el float 3.99 a un entero. ¿Qué ocurre?\")\n",
    "\n",
    "### Completa aquí\n",
    "\n",
    "print(\"--------------\")\n",
    "\n",
    "print(\"\\nEjercicio 4: Variables\")\n",
    "print(\"Crea variables para tu nombre, edad y altura.\")\n",
    "print(\"Usa f-strings para imprimir una presentación.\")\n",
    "\n",
    "# \"Hola! Me llamo midudev y tengo 39 años, mido 1.70 metros\"\n",
    "\n",
    "### Completa aquí\n",
    "\n",
    "print(\"--------------\")\n",
    "\n",
    "print(\"\\nEjercicio 5: Números\")\n",
    "print(\"1. Crea una variable con el número PI (sin asignar una variable)\")\n",
    "print(\"2. Redondea el número con round()\")\n",
    "print(\"3. Haz la división entera entre el número que te salió y el número 2\")\n",
    "print(\"4. El resultado debería ser 1\")"
   ]
  },
  {
   "cell_type": "code",
   "execution_count": 3,
   "id": "e2771f67",
   "metadata": {},
   "outputs": [
    {
     "name": "stdout",
     "output_type": "stream",
     "text": [
      "Edgar\n",
      "Queretaro\n"
     ]
    }
   ],
   "source": [
    "#Resolucion del ejercicio 1\n",
    "\n",
    "#Guardar mi nombre\n",
    "nombre= \"Edgar\"\n",
    "\n",
    "#Guardar mi ciudad\n",
    "ciudad= \"Queretaro\"\n",
    "\n",
    "#Imprimir mi nombre\n",
    "print(nombre)\n",
    "\n",
    "#Imprimir mi ciudad en una linea separada\n",
    "print(ciudad)"
   ]
  },
  {
   "cell_type": "code",
   "execution_count": 4,
   "id": "b93b8349",
   "metadata": {},
   "outputs": [
    {
     "name": "stdout",
     "output_type": "stream",
     "text": [
      "<class 'int'>\n",
      "<class 'float'>\n",
      "<class 'str'>\n",
      "<class 'bool'>\n",
      "<class 'NoneType'>\n"
     ]
    }
   ],
   "source": [
    "#Ejercicio 2\n",
    "\n",
    "#Guardar la variable \"a\" y su dato\n",
    "a = 15\n",
    "\n",
    "#Guardar la variable \"b\" y su dato\n",
    "b = 3.14159\n",
    "\n",
    "#Guardar la variable \"c\" y su dato\n",
    "c = \"Hola mundo\"\n",
    "\n",
    "#Guardar la variable \"d\" y su dato\n",
    "d = True\n",
    "\n",
    "#Guardar la variable \"e\" y su dato\n",
    "e = None\n",
    "\n",
    "#Obtener el tipo de la variable A e imprimirlo\n",
    "print(type(a))\n",
    "\n",
    "#Obtener el tipo de la variable B e imprimirlo\n",
    "print(type(b))\n",
    "\n",
    "#Obtener el tipo de la variable C e imprimirlo\n",
    "print(type(c))\n",
    "\n",
    "#Obtener el tipo de la variable D e imprimirlo\n",
    "print(type(d))\n",
    "\n",
    "#Obtener el tipo de la variable E e imprimirlo\n",
    "print(type(e))"
   ]
  }
 ],
 "metadata": {
  "kernelspec": {
   "display_name": "Python 3",
   "language": "python",
   "name": "python3"
  },
  "language_info": {
   "codemirror_mode": {
    "name": "ipython",
    "version": 3
   },
   "file_extension": ".py",
   "mimetype": "text/x-python",
   "name": "python",
   "nbconvert_exporter": "python",
   "pygments_lexer": "ipython3",
   "version": "3.12.4"
  }
 },
 "nbformat": 4,
 "nbformat_minor": 5
}
