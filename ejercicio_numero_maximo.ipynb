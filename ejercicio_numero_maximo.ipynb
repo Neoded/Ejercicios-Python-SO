{
 "cells": [
  {
   "cell_type": "markdown",
   "id": "5120d4e8",
   "metadata": {},
   "source": [
    "Guarda en una variable un dato introducido por el usuario con input"
   ]
  },
  {
   "cell_type": "code",
   "execution_count": null,
   "id": "d2eccac6",
   "metadata": {},
   "outputs": [],
   "source": []
  },
  {
   "cell_type": "markdown",
   "id": "65f62404",
   "metadata": {},
   "source": [
    "Guarda en una variable un dato introducido por el usuario e imprimelo su tipo"
   ]
  },
  {
   "cell_type": "code",
   "execution_count": null,
   "id": "57405a05",
   "metadata": {},
   "outputs": [],
   "source": []
  },
  {
   "cell_type": "markdown",
   "id": "ec998cb7",
   "metadata": {},
   "source": [
    "Guarda en una variable un dato introducido por el usuario e imprime el resultado de utilizar isnumeric()"
   ]
  },
  {
   "cell_type": "code",
   "execution_count": null,
   "id": "0484e13f",
   "metadata": {},
   "outputs": [],
   "source": []
  },
  {
   "cell_type": "markdown",
   "id": "7084ea25",
   "metadata": {},
   "source": [
    "Guarda en una variable un dato introducido por el usuario y despues guarda esa variable en la lista, imprime la lista cruda al final"
   ]
  },
  {
   "cell_type": "code",
   "execution_count": null,
   "id": "4dc5d0a3",
   "metadata": {},
   "outputs": [],
   "source": [
    "lista= []"
   ]
  },
  {
   "cell_type": "markdown",
   "id": "52907637",
   "metadata": {},
   "source": [
    "Imprime la variable rango y revisa el resultado, lee en internet o pide explicacion a una IA de como funciona range()\\\n",
    "Escribe al final en un comentario una breve explicacion tuya"
   ]
  },
  {
   "cell_type": "code",
   "execution_count": 4,
   "id": "44549965",
   "metadata": {},
   "outputs": [],
   "source": [
    "rango= range(0,5)"
   ]
  },
  {
   "cell_type": "markdown",
   "id": "4f81d3b9",
   "metadata": {},
   "source": [
    "Convierte la variable rango en una lista e imprime el resultado"
   ]
  },
  {
   "cell_type": "code",
   "execution_count": 6,
   "id": "ea081244",
   "metadata": {},
   "outputs": [],
   "source": [
    "rango= range(0,5)"
   ]
  },
  {
   "cell_type": "markdown",
   "id": "df873071",
   "metadata": {},
   "source": [
    "Convierte rango en una lista y despues itera por todos sus elementos e imprime cada uno de ellos"
   ]
  },
  {
   "cell_type": "code",
   "execution_count": null,
   "id": "831f811e",
   "metadata": {},
   "outputs": [],
   "source": [
    "rango= range(0,5)"
   ]
  },
  {
   "cell_type": "markdown",
   "id": "a9c658ae",
   "metadata": {},
   "source": [
    "Itera a traves de rango, imprime el texto \"Esta es la iteracion numero {}\" en cada vez"
   ]
  },
  {
   "cell_type": "code",
   "execution_count": 7,
   "id": "097a8ebb",
   "metadata": {},
   "outputs": [],
   "source": [
    "rango= range(0,5)"
   ]
  },
  {
   "cell_type": "markdown",
   "id": "067dcf9b",
   "metadata": {},
   "source": [
    "Itera a traves de rango, por cada iteracion pide al usuario que introduzca un texto, despues ese texto guardalo en una lista"
   ]
  },
  {
   "cell_type": "code",
   "execution_count": null,
   "id": "c673cc0e",
   "metadata": {},
   "outputs": [],
   "source": [
    "rango= range(0,5)\n",
    "lista= []"
   ]
  },
  {
   "cell_type": "markdown",
   "id": "aa4c3367",
   "metadata": {},
   "source": [
    "Pide al usuario un texto, despues utilizando isnumeric() evalua si es un numero\\\n",
    "Si el resultado es True imprime \"El valor introducido es un numero\"\n",
    "Si el resultado es False imprime \"El valor introducido NO es un numero\""
   ]
  },
  {
   "cell_type": "code",
   "execution_count": null,
   "id": "c0db87b5",
   "metadata": {},
   "outputs": [],
   "source": []
  },
  {
   "cell_type": "markdown",
   "id": "76b93cb3",
   "metadata": {},
   "source": [
    "Itera a traves de rango, por cada iteracion pide al usuario que introduzca un texto, utilizando isnumeric() evalua si es un numero\\\n",
    "Si es un numero agregalo a la lista"
   ]
  },
  {
   "cell_type": "code",
   "execution_count": null,
   "id": "57364fe5",
   "metadata": {},
   "outputs": [],
   "source": [
    "rango= range(0,5)\n",
    "lista= []"
   ]
  },
  {
   "cell_type": "markdown",
   "id": "99a4cc71",
   "metadata": {},
   "source": [
    "Agrega el codigo que falta en while para que el codigo se ejecute solo 3 veces"
   ]
  },
  {
   "cell_type": "code",
   "execution_count": null,
   "id": "9c53a3e3",
   "metadata": {},
   "outputs": [],
   "source": [
    "contador = 0\n",
    "while contador < 3:\n",
    "    print(f\"Hola soy la iteracion {contador+1}\")"
   ]
  },
  {
   "cell_type": "markdown",
   "id": "a45e0563",
   "metadata": {},
   "source": [
    "Pide al usuario un numero \n",
    "utiliza while y el metodo isnumeric para que siga pidiendo al usuario un numero mientras el texto ingresado no sea un numero"
   ]
  },
  {
   "cell_type": "code",
   "execution_count": null,
   "id": "221f8423",
   "metadata": {},
   "outputs": [],
   "source": []
  },
  {
   "cell_type": "markdown",
   "id": "8f843c63",
   "metadata": {},
   "source": [
    "Utiliza el metodo len e imprime el numero de elementos de la lista"
   ]
  },
  {
   "cell_type": "code",
   "execution_count": 8,
   "id": "3b12a757",
   "metadata": {},
   "outputs": [],
   "source": [
    "lista= [1,2,3]"
   ]
  },
  {
   "cell_type": "markdown",
   "id": "ecc92173",
   "metadata": {},
   "source": [
    "Utiliza el metodo len y while para iterar por la lista\\\n",
    "Dentro del bucle while pide al usuario que ingrese un texto, guardalo en una variable y despues agregalo a la lista\\\n",
    "La lista debe contener 3 elementos"
   ]
  },
  {
   "cell_type": "code",
   "execution_count": null,
   "id": "88c3f62e",
   "metadata": {},
   "outputs": [],
   "source": [
    "lista= []"
   ]
  },
  {
   "cell_type": "markdown",
   "id": "ddc36709",
   "metadata": {},
   "source": [
    "Utiliza el metodo len y while para iterar por la lista\n",
    "Dentro del bucle while pide al usuario que ingrese un texto, guardalo en una variable\n",
    "utiliza isnumeric para evaluar si es numero o no, si es un numero agregalo a la lista\n",
    "si isnumeric es false, imprime \"El dato ingresado no es un numero\""
   ]
  },
  {
   "cell_type": "code",
   "execution_count": 9,
   "id": "f453af88",
   "metadata": {},
   "outputs": [],
   "source": [
    "lista= []"
   ]
  },
  {
   "cell_type": "markdown",
   "id": "0a42e09b",
   "metadata": {},
   "source": [
    "Crea un programa que pida 5 numeros al usuario\\\n",
    "Debe devolver el numero maximo sin utilizar funciones como max\\\n",
    "Si el usuario no introduce un numero debe pedirlo al usuario nuevamente"
   ]
  },
  {
   "cell_type": "code",
   "execution_count": null,
   "id": "0aad40b8",
   "metadata": {},
   "outputs": [],
   "source": []
  }
 ],
 "metadata": {
  "kernelspec": {
   "display_name": "Python 3",
   "language": "python",
   "name": "python3"
  },
  "language_info": {
   "codemirror_mode": {
    "name": "ipython",
    "version": 3
   },
   "file_extension": ".py",
   "mimetype": "text/x-python",
   "name": "python",
   "nbconvert_exporter": "python",
   "pygments_lexer": "ipython3",
   "version": "3.12.4"
  }
 },
 "nbformat": 4,
 "nbformat_minor": 5
}
