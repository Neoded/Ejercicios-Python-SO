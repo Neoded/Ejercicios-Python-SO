{
 "cells": [
  {
   "cell_type": "markdown",
   "id": "2e7c6284",
   "metadata": {},
   "source": [
    "### Crea una variable numerica y despues imprime por pantalla utilizando el operador de igualdad si ese numero es igual a 10"
   ]
  },
  {
   "cell_type": "code",
   "execution_count": null,
   "id": "708dfce2",
   "metadata": {},
   "outputs": [
    {
     "name": "stdout",
     "output_type": "stream",
     "text": [
      "False\n"
     ]
    }
   ],
   "source": [
    "número = 11\n",
    "\n",
    "print(número == 10) #Imprime: ¿el valor de la variable número es igual a 10?"
   ]
  },
  {
   "cell_type": "markdown",
   "id": "501c1dbc",
   "metadata": {},
   "source": [
    "### Crea una variable con tu nombre y despues utilizando el operador de diferencia revisa si la primera letra de tu nombre corresponde a la letra A"
   ]
  },
  {
   "cell_type": "code",
   "execution_count": null,
   "id": "8bd3198a",
   "metadata": {},
   "outputs": [
    {
     "data": {
      "text/plain": [
       "True"
      ]
     },
     "execution_count": 2,
     "metadata": {},
     "output_type": "execute_result"
    }
   ],
   "source": [
    "nombre = \"Carlos\"\n",
    "\n",
    "nombre[0] != \"A\" #¿La primer letra de la variable nombre, es diferente de A?"
   ]
  },
  {
   "cell_type": "markdown",
   "id": "3d6a4960",
   "metadata": {},
   "source": [
    "### ¿Tienes permiso para beber alcohol y tienes menos de 65 años? Crea una variable con tu edad y despues imprime por pantalla el resultado de la evaluacion entre ambas edades"
   ]
  },
  {
   "cell_type": "code",
   "execution_count": null,
   "id": "f5bedbe8",
   "metadata": {},
   "outputs": [
    {
     "data": {
      "text/plain": [
       "True"
      ]
     },
     "execution_count": 4,
     "metadata": {},
     "output_type": "execute_result"
    }
   ],
   "source": [
    "mi_edad = 30\n",
    "\n",
    "mi_edad >= 18 and mi_edad <= 65 #¿Valor de la variable mi_edad es mayor a 18, y menor a 65?\n",
    "\n"
   ]
  },
  {
   "cell_type": "markdown",
   "id": "a03e5b8f",
   "metadata": {},
   "source": [
    "### Investiga el operador IN en python, despues crea una lista con 5 nombres distintos, crea una variable con tu nombre y despues utilizando in, evalua e imprime por pantalla si tu nombre se encuentra dentro de esa lista"
   ]
  },
  {
   "cell_type": "code",
   "execution_count": 10,
   "id": "b2acc324",
   "metadata": {},
   "outputs": [
    {
     "name": "stdout",
     "output_type": "stream",
     "text": [
      "True\n",
      "False\n"
     ]
    }
   ],
   "source": [
    "nombres = [\"Carlos\", \"Julián\", \"Gilberto\", \"Luis\", \"Jesús\"]\n",
    "\n",
    "mi_nombre = \"Carlos\"\n",
    "\n",
    "otro_nombre = \"Eduardo\"\n",
    "\n",
    "print(mi_nombre in nombres) #Imprime: ¿el contenido de la variable mi_nombre, se encuentra en la lista nombres?\n",
    "\n",
    "print(otro_nombre in nombres) #Imprime: ¿el contenido de la variable otro_nombre está en la lista nombres?"
   ]
  }
 ],
 "metadata": {
  "kernelspec": {
   "display_name": "Python 3",
   "language": "python",
   "name": "python3"
  },
  "language_info": {
   "codemirror_mode": {
    "name": "ipython",
    "version": 3
   },
   "file_extension": ".py",
   "mimetype": "text/x-python",
   "name": "python",
   "nbconvert_exporter": "python",
   "pygments_lexer": "ipython3",
   "version": "3.13.2"
  }
 },
 "nbformat": 4,
 "nbformat_minor": 5
}
