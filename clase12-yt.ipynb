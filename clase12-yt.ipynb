{
 "cells": [
  {
   "cell_type": "code",
   "execution_count": 1,
   "id": "d79d567a",
   "metadata": {},
   "outputs": [
    {
     "name": "stdout",
     "output_type": "stream",
     "text": [
      "kiwi\n",
      "fresa\n",
      "sandia\n",
      "manzana\n"
     ]
    }
   ],
   "source": [
    "#Creamos una lista de frutas para iterar\n",
    "frutas= [\"kiwi\", \"fresa\", \"sandia\", \"manzana\"]\n",
    "\n",
    "for fruta in frutas:\n",
    "    print(fruta)"
   ]
  },
  {
   "cell_type": "code",
   "execution_count": null,
   "id": "b922ea61",
   "metadata": {},
   "outputs": [
    {
     "name": "stdout",
     "output_type": "stream",
     "text": [
      "['kiwi', 'fresa', 'sandia', 'manzana']\n"
     ]
    }
   ],
   "source": [
    "#Cuando imprimimos una lista cruda, aparece la estructura completa\n",
    "print(frutas)"
   ]
  },
  {
   "cell_type": "code",
   "execution_count": null,
   "id": "37df8140",
   "metadata": {},
   "outputs": [
    {
     "name": "stdout",
     "output_type": "stream",
     "text": [
      "e1\n",
      "e2\n",
      "e3\n"
     ]
    }
   ],
   "source": [
    "#Conjunto de elementos\n",
    "elementos= [\"e1\", \"e2\", \"e3\"]\n",
    "\n",
    "#Asignamos el nombre de variable en e\n",
    "for e in elementos:\n",
    "    print(e)"
   ]
  },
  {
   "cell_type": "code",
   "execution_count": 7,
   "id": "5cb6f520",
   "metadata": {},
   "outputs": [
    {
     "name": "stdout",
     "output_type": "stream",
     "text": [
      "edgar\n",
      "ale\n",
      "angel\n"
     ]
    }
   ],
   "source": [
    "#Abordar el nombramiento individual del bucle for en la proxima sesion\n",
    "nombres= [\"edgar\", \"ale\", \"angel\"]\n",
    "\n",
    "for nombre in nombres:\n",
    "    print(nombre)"
   ]
  },
  {
   "cell_type": "code",
   "execution_count": 6,
   "id": "5610f3d7",
   "metadata": {},
   "outputs": [
    {
     "name": "stdout",
     "output_type": "stream",
     "text": [
      "edgar\n",
      "ale\n",
      "angel\n"
     ]
    }
   ],
   "source": [
    "#Lista de nombres\n",
    "nombres= [\"edgar\", \"ale\", \"angel\"]\n",
    "\n",
    "#Asignar a nombre el valor de la primera posicion\n",
    "nombre= nombres[0]\n",
    "print(nombre)\n",
    "nombre= nombres[1]\n",
    "print(nombre)\n",
    "nombre= nombres[2]\n",
    "print(nombre)"
   ]
  },
  {
   "cell_type": "code",
   "execution_count": null,
   "id": "46d1f985",
   "metadata": {},
   "outputs": [
    {
     "name": "stdout",
     "output_type": "stream",
     "text": [
      "disco duro\n",
      "mouse\n",
      "teclado\n"
     ]
    }
   ],
   "source": [
    "#Lista de componentes de computadora\n",
    "componentes= [\"disco duro\", \"mouse\", \"teclado\"]\n",
    "\n",
    "#En el primer ciclo la variable componente toma el valor de la primera iteracion\n",
    "for componente in [\"disco duro\", \"mouse\", \"teclado\"]:\n",
    "    print(componente=\"disco duro\")\n",
    "\n",
    "#En el segundo ciclo la variable componente toma el valor de la segunda iteracion\n",
    "for componente in [\"disco duro\", \"mouse\", \"teclado\"]:\n",
    "    print(componente=\"mouse\")\n",
    "\n",
    "#En el tercer ciclo la variable componente toma el valor de la tercera iteracion\n",
    "for componente in  [\"disco duro\", \"mouse\", \"teclado\"]:\n",
    "    print(componente= \"teclado\")"
   ]
  },
  {
   "cell_type": "code",
   "execution_count": null,
   "id": "1fc15031",
   "metadata": {},
   "outputs": [
    {
     "name": "stdout",
     "output_type": "stream",
     "text": [
      "kiwi\n",
      "fresa\n",
      "sandia\n",
      "manzana\n",
      "3\n",
      "False\n",
      "Aqui termina el bucle\n"
     ]
    }
   ],
   "source": [
    "#Creamos una lista de frutas para iterar\n",
    "frutas= [\"kiwi\", \"fresa\", \"sandia\", \"manzana\", 3, False]\n",
    "\n",
    "#Todos los elementos de la lista, pasaran a tener el nombre de la variable temporal, que en este caso es fruta\n",
    "for fruta in frutas:\n",
    "    print(fruta)\n",
    "\n",
    "#Permito que continue el resto del codigo al terminar de iterar por la coleccion de objetos\n",
    "print(\"Aqui termina el bucle\")"
   ]
  },
  {
   "cell_type": "code",
   "execution_count": 16,
   "id": "9da6ea14",
   "metadata": {},
   "outputs": [
    {
     "name": "stdout",
     "output_type": "stream",
     "text": [
      "A edgar le gusta una fruta de la lista\n",
      "A edgar le gusta una fruta de la lista\n",
      "A edgar le gusta una fruta de la lista\n",
      "A edgar le gusta una fruta de la lista\n",
      "Aqui termina el bucle. Tenemos un total de 4 frutas\n"
     ]
    }
   ],
   "source": [
    "#Creamos una lista de frutas para iterar\n",
    "frutas= [\"kiwi\", \"fresa\", \"sandia\", \"manzana\"]\n",
    "\n",
    "#Contador de frutas\n",
    "contador= 0\n",
    "for fruta in frutas:\n",
    "    contador+=1\n",
    "    print(\"A edgar le gusta una fruta de la lista\")\n",
    "\n",
    "print(\"Aqui termina el bucle. Tenemos un total de {} frutas\".format(contador))"
   ]
  }
 ],
 "metadata": {
  "kernelspec": {
   "display_name": "Python 3",
   "language": "python",
   "name": "python3"
  },
  "language_info": {
   "codemirror_mode": {
    "name": "ipython",
    "version": 3
   },
   "file_extension": ".py",
   "mimetype": "text/x-python",
   "name": "python",
   "nbconvert_exporter": "python",
   "pygments_lexer": "ipython3",
   "version": "3.12.4"
  }
 },
 "nbformat": 4,
 "nbformat_minor": 5
}
