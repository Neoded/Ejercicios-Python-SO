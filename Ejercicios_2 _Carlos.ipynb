{
 "cells": [
  {
   "cell_type": "markdown",
   "metadata": {},
   "source": [
    "### Crea una varible que contenga datos por cada uno de los tipos de estructura de datos lista, tupla, conjunto y diccionario"
   ]
  },
  {
   "cell_type": "code",
   "execution_count": 6,
   "metadata": {},
   "outputs": [
    {
     "name": "stdout",
     "output_type": "stream",
     "text": [
      "<class 'list'>\n",
      "<class 'tuple'>\n",
      "<class 'set'>\n",
      "<class 'dict'>\n"
     ]
    }
   ],
   "source": [
    "Lista_series = [\"Breaking Bad\", \"Holmes\", \"Hannibal\", \"Dr House\", \"Friends\", \"The Office\", \"Hannibal\", \"The Big Bang Theory\"] #Listas se encierran entre corchetes.\n",
    "print(type(Lista_series)) #Imprime en pantalla el tipo de estructura de datos de la variable Lista_series.\n",
    "\n",
    "Tuplas_animes = (\"Hunter x Hunter\", \"Dragon Ball\", \"Naruto\", \"Ranma\", \"Chainsawman\")\n",
    "print(type(Tuplas_animes)) #Imprime en pantalla el tipo de estructura de datos de la variable Tuplas_animes.\n",
    "\n",
    "Conjuntos = set(\"2, 4, 6, 8\") #Los conjuntos se escriben con llaves, pero al ser utilizadas tambien por los diccionarios, se intercambia por un 'set' complementando con paréntesis.\n",
    "print(type(Conjuntos)) #Imprime en pantalla el tipo de estructura de datos de la variable Conjuntos.\n",
    "\n",
    "Diccionario = {\"Película\": \"Deadpool\", #Los diccionarios se encierran entre llaves, constan de clave:valor.\n",
    "               \"Anime\": \"Dororo\",\n",
    "               \"Serie\": \"Smallville\",\n",
    "               \"Temporadas\": 10} \n",
    "print(type(Diccionario)) #Imprime en pantalla el tipo de estructura de datos de la variable Diccionario.\n",
    "\n"
   ]
  },
  {
   "cell_type": "markdown",
   "metadata": {},
   "source": [
    "### Utilizando las estructuras anteriores muestra el primer y ultimo elemento de una lista por pantalla (utiliza print) del tipo de dato lista"
   ]
  },
  {
   "cell_type": "code",
   "execution_count": 8,
   "metadata": {},
   "outputs": [
    {
     "name": "stdout",
     "output_type": "stream",
     "text": [
      "El primer elemento de mi lista es: Breaking Bad\n",
      "Y el último elemento de mi lista es: The Big Bang Theory\n"
     ]
    }
   ],
   "source": [
    "print(\"El primer elemento de mi lista es:\", Lista_series[0]) #Imprime en pantalla el primer elemento de la lista anterior.\n",
    "\n",
    "print(\"Y el último elemento de mi lista es:\", Lista_series[7]) #Imprime en pantalla el último elemento de la lista anterior."
   ]
  },
  {
   "cell_type": "markdown",
   "metadata": {},
   "source": [
    "### Los diccionarios utilizan una relacion clave valor, del diccionario que creaste anteriormente muestra todos sus valores uno por uno utilizando print"
   ]
  },
  {
   "cell_type": "code",
   "execution_count": 9,
   "metadata": {},
   "outputs": [
    {
     "name": "stdout",
     "output_type": "stream",
     "text": [
      "La película seleccionada es: Deadpool\n",
      "La anime seleccionado es: Dororo\n",
      "La serie seleccionada es: Smallville\n",
      "Cuenta con: 10 temporadas.\n"
     ]
    }
   ],
   "source": [
    "print(\"La película seleccionada es:\", Diccionario[\"Película\"]) #Imprime en pantalla el valor de la clave Película dentro del diccionario anterior.\n",
    "\n",
    "print(\"La anime seleccionado es:\", Diccionario[\"Anime\"]) #Imprime en pantalla el valor de la clave Anime dentro del diccionario anterior.\n",
    "\n",
    "print(\"La serie seleccionada es:\", Diccionario[\"Serie\"]) #Imprime en pantalla el valor de la clave Serie dentro del diccionario anterior.\n",
    "\n",
    "print(\"Cuenta con:\", Diccionario[\"Temporadas\"], \"temporadas.\") #Imprime en pantalla el valor de la clave Temporadas dentro del diccionario anterior."
   ]
  },
  {
   "cell_type": "markdown",
   "metadata": {},
   "source": [
    "### Esta tarea requiere investigacion, en la lista que creaste anteriormente, utiliza un metodo (parecido a funcion) que añada a tu lista \"SpeakOn was here\"\n",
    "### Esto se hace con codigo python y no puedes agregar codigo a la lista que creaste arriba"
   ]
  },
  {
   "cell_type": "code",
   "execution_count": 10,
   "metadata": {},
   "outputs": [
    {
     "name": "stdout",
     "output_type": "stream",
     "text": [
      "['Breaking Bad', 'Holmes', 'Hannibal', 'Dr House', 'Friends', 'The Office', 'Hannibal', 'The Big Bang Theory', 'SpeakOn was here']\n"
     ]
    }
   ],
   "source": [
    "Lista_series.append(\"SpeakOn was here\") #.append agrega un elemento a la lista. Este no se puede agregar directamente al print, debido a que\n",
    "                                        #la función realiza la modificación y ya, no devuelve ningún valor. Para eso debes solicitar print aparte.\n",
    "\n",
    "print(Lista_series) #Imprime en pantalla la lista anterior, con la modificación del elemento agregado por medio de .append."
   ]
  }
 ],
 "metadata": {
  "kernelspec": {
   "display_name": "Python 3",
   "language": "python",
   "name": "python3"
  },
  "language_info": {
   "codemirror_mode": {
    "name": "ipython",
    "version": 3
   },
   "file_extension": ".py",
   "mimetype": "text/x-python",
   "name": "python",
   "nbconvert_exporter": "python",
   "pygments_lexer": "ipython3",
   "version": "3.13.2"
  }
 },
 "nbformat": 4,
 "nbformat_minor": 2
}
