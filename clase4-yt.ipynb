{
 "cells": [
  {
   "cell_type": "code",
   "execution_count": null,
   "id": "3963a759",
   "metadata": {},
   "outputs": [],
   "source": [
    "#Tipos de datos avanzados en python\n",
    "\n",
    "listas= []\n",
    "diccionarios = {}\n",
    "sets= ()"
   ]
  },
  {
   "cell_type": "code",
   "execution_count": 13,
   "id": "8dc00158",
   "metadata": {},
   "outputs": [],
   "source": [
    "#Las listas nos permiten guardar datos y/o variables dentro de si mismo\n",
    "\n",
    "frutas = [\"kiwi\", \"mango\", \"sandia\"]\n",
    "\n",
    "#Ejemplo utilizando variables\n",
    "fruta1= \"platano\"\n",
    "fruta2= \"guayaba\"\n",
    "fruta3= \"arandano\"\n",
    "frutas_v= [fruta1, fruta2, fruta3]\n",
    "\n",
    "#Mezcla de variables y datos \"crudos\"\n",
    "frutas_m= [fruta1, \"kiwi\", fruta3]"
   ]
  },
  {
   "cell_type": "code",
   "execution_count": 22,
   "id": "694c9879",
   "metadata": {},
   "outputs": [
    {
     "name": "stdout",
     "output_type": "stream",
     "text": [
      "sandia\n"
     ]
    }
   ],
   "source": [
    "#Funcionamiento del indice de frutas\n",
    "frutas = [\"kiwi\", \"mango\", \"sandia\"]\n",
    "indice= [0,1,2]\n",
    "\n",
    "print(frutas[2])"
   ]
  },
  {
   "cell_type": "code",
   "execution_count": 25,
   "id": "7b1d725f",
   "metadata": {},
   "outputs": [
    {
     "name": "stdout",
     "output_type": "stream",
     "text": [
      "sandia\n"
     ]
    }
   ],
   "source": [
    "#conocer el ultimo elemento de una lista\n",
    "indice_inverso= [-3,-2,-1]\n",
    "\n",
    "print(frutas[-1])"
   ]
  },
  {
   "cell_type": "code",
   "execution_count": 16,
   "id": "0e23c04a",
   "metadata": {},
   "outputs": [
    {
     "name": "stdout",
     "output_type": "stream",
     "text": [
      "Mi fruta favorita es ['kiwi', 'mango', 'sandia']\n"
     ]
    }
   ],
   "source": [
    "print(\"Mi fruta favorita es\", frutas)"
   ]
  }
 ],
 "metadata": {
  "kernelspec": {
   "display_name": "Python 3",
   "language": "python",
   "name": "python3"
  },
  "language_info": {
   "codemirror_mode": {
    "name": "ipython",
    "version": 3
   },
   "file_extension": ".py",
   "mimetype": "text/x-python",
   "name": "python",
   "nbconvert_exporter": "python",
   "pygments_lexer": "ipython3",
   "version": "3.12.4"
  }
 },
 "nbformat": 4,
 "nbformat_minor": 5
}
