{
 "cells": [
  {
   "cell_type": "code",
   "execution_count": 5,
   "id": "27221920",
   "metadata": {},
   "outputs": [
    {
     "name": "stdout",
     "output_type": "stream",
     "text": [
      "Tienes acceso a la pelicula de Deadpool\n",
      "Esto se ejecuta despues de la secuencia de condicionales\n"
     ]
    }
   ],
   "source": [
    "#If puede ejecutarse solo\n",
    "edad = 33\n",
    "if edad >= 18:\n",
    "    print(\"Tienes acceso a la pelicula de Deadpool\")\n",
    "\n",
    "print(\"Esto se ejecuta despues de la secuencia de condicionales\")"
   ]
  },
  {
   "cell_type": "code",
   "execution_count": null,
   "id": "8ecff9d8",
   "metadata": {},
   "outputs": [
    {
     "ename": "SyntaxError",
     "evalue": "invalid syntax (3052940434.py, line 2)",
     "output_type": "error",
     "traceback": [
      "\u001b[1;36m  Cell \u001b[1;32mIn[6], line 2\u001b[1;36m\u001b[0m\n\u001b[1;33m    elif edad >= 18:\u001b[0m\n\u001b[1;37m    ^\u001b[0m\n\u001b[1;31mSyntaxError\u001b[0m\u001b[1;31m:\u001b[0m invalid syntax\n"
     ]
    }
   ],
   "source": [
    "#Siempre debe ejecutarse primero if, sino arrojara un error de sintaxis\n",
    "elif edad >= 18:\n",
    "    print(\"Tienes acceso a la pelicula de Deadpool\")"
   ]
  },
  {
   "cell_type": "code",
   "execution_count": 8,
   "id": "dc70b83f",
   "metadata": {},
   "outputs": [
    {
     "name": "stdout",
     "output_type": "stream",
     "text": [
      "Lo siento, no puedes ingresar a la pelicula\n",
      "Esto se ejecuta despues de la secuencia de condicionales\n"
     ]
    }
   ],
   "source": [
    "#No es necesario colocar elif o else\n",
    "edad = 10\n",
    "if edad >= 18:\n",
    "    print(\"Tienes acceso a la pelicula de Deadpool\")\n",
    "else:\n",
    "    print(\"Lo siento, no puedes ingresar a la pelicula\")\n",
    "\n",
    "print(\"Esto se ejecuta despues de la secuencia de condicionales\")"
   ]
  },
  {
   "cell_type": "code",
   "execution_count": 10,
   "id": "b67768ba",
   "metadata": {},
   "outputs": [
    {
     "name": "stdout",
     "output_type": "stream",
     "text": [
      "Esto se ejecuta despues de la secuencia de condicionales\n"
     ]
    }
   ],
   "source": [
    "#No es necesario colocar elif o else\n",
    "edad = -1\n",
    "if edad >= 18:\n",
    "    print(\"Tienes acceso a la pelicula de Deadpool\")\n",
    "elif edad >= 0 and edad < 18:\n",
    "    print(\"Lo siento, no puedes ingresar a la pelicula\")\n",
    "\n",
    "print(\"Esto se ejecuta despues de la secuencia de condicionales\")"
   ]
  },
  {
   "cell_type": "code",
   "execution_count": 13,
   "id": "d2bfa70c",
   "metadata": {},
   "outputs": [
    {
     "name": "stdout",
     "output_type": "stream",
     "text": [
      "Tienes acceso a la pelicula de Deadpool\n",
      "Esto se ejecuta despues de la secuencia de condicionales\n"
     ]
    }
   ],
   "source": [
    "#No es necesario colocar elif o else\n",
    "edad = 33\n",
    "if edad >= 18:\n",
    "    print(\"Tienes acceso a la pelicula de Deadpool\")\n",
    "elif edad >= 0 and edad < 18:\n",
    "    print(\"Lo siento, no puedes ingresar a la pelicula\")\n",
    "else:\n",
    "    print(\"Introduce una edad valida\")\n",
    "\n",
    "print(\"Esto se ejecuta despues de la secuencia de condicionales\")"
   ]
  },
  {
   "cell_type": "code",
   "execution_count": 17,
   "id": "6a5ffd4d",
   "metadata": {},
   "outputs": [
    {
     "name": "stdout",
     "output_type": "stream",
     "text": [
      "Tienes un descuento de adulto mayor\n",
      "Esto se ejecuta despues de la secuencia de condicionales\n"
     ]
    }
   ],
   "source": [
    "#Puedo utilizar la cantidad de elif que yo necesite\n",
    "\n",
    "edad = 67\n",
    "if edad >= 18 and edad < 65:\n",
    "    print(\"Tienes acceso a la pelicula de Deadpool\")\n",
    "elif edad >= 0 and edad < 16:\n",
    "    print(\"Lo siento, no puedes ingresar a la pelicula\")\n",
    "elif edad >= 16 and edad <18:\n",
    "    print(\"Puedes ingresar con el acompañamiento de un adulto\")\n",
    "elif edad >= 65:\n",
    "    print(\"Tienes un descuento de adulto mayor\")\n",
    "\n",
    "print(\"Esto se ejecuta despues de la secuencia de condicionales\")"
   ]
  },
  {
   "cell_type": "code",
   "execution_count": null,
   "id": "fd03f687",
   "metadata": {},
   "outputs": [
    {
     "name": "stdout",
     "output_type": "stream",
     "text": [
      "Esto se esta ejecutando\n",
      "Tienes un descuento de adulto mayor\n",
      "Esto se ejecuta despues de la secuencia de condicionales\n"
     ]
    }
   ],
   "source": [
    "#Puedo utilizar la cantidad de elif que yo necesite\n",
    "\n",
    "edad = 67\n",
    "if edad >= 18 and edad < 65: #Esto se esta evaluando\n",
    "    print(\"Tienes acceso a la pelicula de Deadpool\")\n",
    "if edad >= 0 and edad < 16: #Esto se esta evaluando\n",
    "    print(\"Lo siento, no puedes ingresar a la pelicula\")\n",
    "if edad >= 16 and edad <18:#Esto se esta evaluando\n",
    "    print(\"Puedes ingresar con el acompañamiento de un adulto\")\n",
    "if edad >= 65:#Esto se esta evaluando\n",
    "    print(\"Tienes un descuento de adulto mayor\")\n",
    "\n",
    "print(\"Esto se ejecuta despues de la secuencia de condicionales\")"
   ]
  },
  {
   "cell_type": "code",
   "execution_count": null,
   "id": "3cc73946",
   "metadata": {},
   "outputs": [],
   "source": [
    "#Puedo utilizar la cantidad de elif que yo necesite\n",
    "\n",
    "edad = 67\n",
    "if edad >= 18 and edad < 65: #Esto se esta evaluando\n",
    "    print(\"Tienes acceso a la pelicula de Deadpool\")\n",
    "elif edad >= 0 and edad < 16: #Esto se esta evaluando solo si la linea anterior es False\n",
    "    print(\"Lo siento, no puedes ingresar a la pelicula\")\n",
    "elif edad >= 16 and edad <18: #Esto se esta evaluando solo si la linea anterior es False\n",
    "    print(\"Puedes ingresar con el acompañamiento de un adulto\")\n",
    "elif edad >= 65: #Esto se esta evaluando solo si la linea anterior es False\n",
    "    print(\"Tienes un descuento de adulto mayor\")\n",
    "\n",
    "print(\"Esto se ejecuta despues de la secuencia de condicionales\")"
   ]
  },
  {
   "cell_type": "code",
   "execution_count": null,
   "id": "755d3503",
   "metadata": {},
   "outputs": [
    {
     "name": "stdout",
     "output_type": "stream",
     "text": [
      "Esto se ejecuta\n",
      "Esto se ejecuta\n",
      "Tienes acceso a la pelicula de Deadpool\n"
     ]
    }
   ],
   "source": [
    "#Podemos utilizar estructuras anidadas, if dentro de if\n",
    "edad = 33\n",
    "if edad >= 18:\n",
    "    if edad < 65: #Esto se esta evaluando\n",
    "        print(\"Tienes acceso a la pelicula de Deadpool\")"
   ]
  }
 ],
 "metadata": {
  "kernelspec": {
   "display_name": "Python 3",
   "language": "python",
   "name": "python3"
  },
  "language_info": {
   "codemirror_mode": {
    "name": "ipython",
    "version": 3
   },
   "file_extension": ".py",
   "mimetype": "text/x-python",
   "name": "python",
   "nbconvert_exporter": "python",
   "pygments_lexer": "ipython3",
   "version": "3.12.4"
  }
 },
 "nbformat": 4,
 "nbformat_minor": 5
}
